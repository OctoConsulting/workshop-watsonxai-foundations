{
 "cells": [
  {
   "cell_type": "markdown",
   "id": "d2ea90db",
   "metadata": {},
   "source": [
    "# Applying what you've learned in the Watsonx.ai Boot Camp\n",
    "The following notebook uses zero-shot text classification for financial services complaint classification.  However it was not written using the IBM GenAI Prompt Patterns functionality and would also benefit from using a more effective few-shot learning technique to improve model accuracy.\n",
    "\n",
    "## To complete the Watsonx.ai Boot Camp\n",
    "You will now apply the lessons you've learned to:\n",
    "1. Refactor this notebook to use the IBM GenAI Python library's Prompt Patterns functionality.\n",
    "2. Implement a better few-shot learning technique to improve model accuracy.\n",
    "3. How much can you improve model performance?\n",
    "\n",
    "## Your mission?  Do better than the person next to you\n",
    "This notebook's accuracy is 72.51%.  Don't just do better than this notebook.  Which one of you can engineer the best prompt?"
   ]
  },
  {
   "cell_type": "markdown",
   "id": "4fd9ca08",
   "metadata": {},
   "source": [
    "# Dataset\n",
    "The Consumer Financial Protection Bureau (CFPB) is a federal U.S. agency that acts as a mediator when disputes arise between financial institutions and consumers. Via a web form, consumers can send the agency a narrative of their dispute. The goal is to automate complain classification to automate routing to the appropriate teams more efficiently.\n",
    "\n",
    "The data file was downloaded directly from the CFPB website and included one year's worth of data (March 2020 to March 2021). Each webiste submission was tagged with one of five financial classes:\n",
    "\n",
    "- credit cards\n",
    "- credit reporting\n",
    "- debt collection\n",
    "- mortgages and loans (includes car loans, payday loans, student loans, etc.)\n",
    "- retail banking (includes checking/savings accounts, as well as money transfers, Venmo, etc.)\n",
    "\n",
    "After data cleaning, the dataset consisted of around 162,400 consumer submissions containing narratives. The dataset is imbalanced with 56% in the credit reporting class with the remainder roughly equally distributed (between 8% and 14%) among the remaining classes.\n",
    "\n",
    "**Note:** This dataset was selected based on prior work on this dataset here: https://github.com/halpert3/complaint-content-classification-nlp"
   ]
  },
  {
   "cell_type": "markdown",
   "id": "ebd8ff3b",
   "metadata": {},
   "source": [
    "# Table of Contents\n",
    "\n",
    "* [Step 1. Initialize system](#fm_initialize)\n",
    "* [Step 2. Select the Model and Set Parameters](#fm_params)\n",
    "* [Step 3. Prepare the Input Data](#fm_input)\n",
    "* [Step 4. Run the Model Iterating over a Sample of the Dataset](#fm_iterate)\n",
    "* [Step 5. Merge and Examine the Output Data](#fm_merge_examine)\n",
    "* [Step 6. Analyze the Results](#fm_analyze)\n",
    "* [Step 7. Submit Your Notebook for Review](#fm_submit_notebook)"
   ]
  },
  {
   "cell_type": "markdown",
   "id": "1d38c929",
   "metadata": {},
   "source": [
    "<a id=\"fm_initialize\"></a>\n",
    "# Step 1. Initialize System"
   ]
  },
  {
   "cell_type": "markdown",
   "id": "192300d9",
   "metadata": {},
   "source": [
    "### 1.1 Import libraries\n",
    "Import libraries and configure the system\n",
    "We import the required libraries and IBM Generative AI modules."
   ]
  },
  {
   "cell_type": "code",
   "execution_count": 2,
   "id": "ad7d2d34",
   "metadata": {},
   "outputs": [],
   "source": [
    "import csv\n",
    "from dotenv import load_dotenv\n",
    "import pandas as pd\n",
    "import json\n",
    "import matplotlib.pyplot as plt\n",
    "import os\n",
    "import plotly.graph_objects as go\n",
    "import plotly.express as px\n",
    "from genai.services import ServiceInterface\n",
    "from genai.model import Credentials, Model\n",
    "from genai.schemas import GenerateParams, ModelType\n",
    "\n",
    "from sklearn.metrics import accuracy_score,confusion_matrix,classification_report"
   ]
  },
  {
   "cell_type": "markdown",
   "id": "b9960013",
   "metadata": {},
   "source": [
    "### 1.2 Import config file\n",
    "\n",
    "To support greater flexibility and configuration, this notebook uses a *config.json* file containing these options:\n",
    "- `input_file_path`: The file path for the input data file for analysis in a CSV format.\n",
    "- `output_file_path`: The file path for storing the classification data output.\n",
    "- `input_value`: The header name of the input sentences from the input data CSV file.\n",
    "- `original_category`: The header name of the original category from the input data CSV file.\n",
    "- `classifications`: An array containing all categories.\n",
    "- `misclassified_file_path`: The file path for storing the misclassified data.\n",
    "- `output_file_header`: An array of headers to specify the output file column order.\n",
    "- `sample_size`: The percentage of the input file to be sampled for processing.\n",
    "- `params`: These additional parameters specify the model behavior.\n",
    "\t- `decoding_method`: This specifies the strategy for selecting tokens during the generation of the output text. This parameter can take on values of \"greedy\" or \"sample\", with \"sample\" as the default value if not specified.\n",
    "\t- `max_new_tokens`: The maximum number of new tokens to be generated. This parameter ranges from 1 to 1024, with a default value 20.\n",
    "\t- `min_new_tokens`: If stop sequences are given, they are ignored until the minimum tokens are generated. The parameter defaults to 0.\n",
    "\t- `random_seed`: Random number generator seed to use in sampling mode for experimental repeatability. The *random_seed* Must be greater than or equal to one.\n",
    "\t- `stop_sequences`: Stop sequences are one or more strings that will cause the text generation to stop when they are produced in the output.\n",
    "\t- `temperature`: The *temperature* modifies the next-token probabilities when running in sampling mode.\n",
    "\t- `top_k`: The number of highest probability vocabulary tokens to retain for top-k-filtering.\n",
    "\t- `top_p`: This parameter is similar to top_k, except the candidates to generate the next token are the most likely tokens with probabilities that sum to at least top_p. \n",
    "\n",
    "There are additional parameters available for further customization, documented at [IBM Watson AI API Reference](https://workbench.res.ibm.com/docs/api-reference#generate)."
   ]
  },
  {
   "cell_type": "code",
   "execution_count": 3,
   "id": "b73d99c6",
   "metadata": {},
   "outputs": [],
   "source": [
    "with open('config.json', 'r') as f:\n",
    "    json_data = json.load(f)\n",
    "    params = GenerateParams(**json_data['params'])\n",
    "\n",
    "temp_path = json_data['temp_path']\n",
    "input_file_path_temp = os.path.join(temp_path,\"inputTemp.csv\")\n",
    "output_file_path_temp = os.path.join(temp_path,\"outputTemp.csv\")\n",
    "os.makedirs(temp_path, exist_ok=True)\n",
    "\n",
    "output_path = json_data['output_path']\n",
    "output_file_path = os.path.join(output_path,json_data['output_file'])\n",
    "os.makedirs(output_path, exist_ok=True)\n"
   ]
  },
  {
   "cell_type": "markdown",
   "id": "8abda61a",
   "metadata": {},
   "source": [
    "<a id=\"fm_params\"></a>\n",
    "# Step 2. Select the Model and Set Parameters\n",
    "In this step we select a model and set the parameters specific to the model to control the behavior.\n",
    "\n",
    "In the default example, the only parameter passed tothe models is decoding_method=\"greedy\". When the *decoding_method* is set to \"greedy\", all generated text is included, so no additional parameters are needed.\n",
    "\n",
    "You could explore using decoding_method=\"sample\" and then set several additional parameters to control text generation. The *temperature* parameter adjusts the randomness of the model's output: setting it to 0.7 gives some randomness, but ensures the model isn't too random. The *min_new_tokens* and *max_new_tokens* parameters control the minimum and maximum number of new tokens the model can generate. The *top_k* and *top_p* parameters control how the model selects tokens from the predicted tokens, and are typically set to 50 and 1, respectively. With those settings, the model will choose the 50 most probable tokens and will not randomly select tokens."
   ]
  },
  {
   "cell_type": "code",
   "execution_count": 4,
   "id": "0abc4146",
   "metadata": {
    "scrolled": true
   },
   "outputs": [
    {
     "ename": "NameError",
     "evalue": "name 'api_url' is not defined",
     "output_type": "error",
     "traceback": [
      "\u001b[0;31m---------------------------------------------------------------------------\u001b[0m",
      "\u001b[0;31mNameError\u001b[0m                                 Traceback (most recent call last)",
      "Cell \u001b[0;32mIn[4], line 10\u001b[0m\n\u001b[1;32m      7\u001b[0m \u001b[38;5;28;01melse\u001b[39;00m:\n\u001b[1;32m      8\u001b[0m     creds \u001b[38;5;241m=\u001b[39m Credentials(api_key\u001b[38;5;241m=\u001b[39mapi_key, api_endpoint\u001b[38;5;241m=\u001b[39mapi_endpoint)\n\u001b[0;32m---> 10\u001b[0m creds \u001b[38;5;241m=\u001b[39m Credentials(api_key\u001b[38;5;241m=\u001b[39mapi_key, api_endpoint\u001b[38;5;241m=\u001b[39mapi_url)\n\u001b[1;32m     11\u001b[0m FLAN \u001b[38;5;241m=\u001b[39m Model(ModelType\u001b[38;5;241m.\u001b[39mFLAN_UL2, params\u001b[38;5;241m=\u001b[39mparams, credentials\u001b[38;5;241m=\u001b[39mcreds)\n",
      "\u001b[0;31mNameError\u001b[0m: name 'api_url' is not defined"
     ]
    }
   ],
   "source": [
    "# Ensure you copied the .env file that you created earlier into the same directory as this notebook\n",
    "load_dotenv()\n",
    "api_key = os.getenv(\"GENAI_KEY\", None)\n",
    "api_endpoint = os.getenv(\"GENAI_API\", None)\n",
    "if api_key is None or api_endpoint is None:\n",
    "    print(\"Ensure you copied the .env file that you created earlier into the same directory as this notebook\")\n",
    "else:\n",
    "    creds = Credentials(api_key=api_key, api_endpoint=api_endpoint)\n",
    "\n",
    "creds = Credentials(api_key=api_key, api_endpoint=api_endpoint)\n",
    "FLAN = Model(ModelType.FLAN_UL2, params=params, credentials=creds)"
   ]
  },
  {
   "cell_type": "markdown",
   "id": "8bee64dc",
   "metadata": {},
   "source": [
    "<a id=\"fm_input\"></a>\n",
    "# Step 3. Prepare the Input Data"
   ]
  },
  {
   "cell_type": "markdown",
   "id": "9de7e7be",
   "metadata": {},
   "source": [
    "## 3.1 Load configuration\n",
    "Read input and specify indices are first column"
   ]
  },
  {
   "cell_type": "code",
   "execution_count": 158,
   "id": "08674381",
   "metadata": {
    "scrolled": true
   },
   "outputs": [
    {
     "data": {
      "text/html": [
       "<div>\n",
       "<style scoped>\n",
       "    .dataframe tbody tr th:only-of-type {\n",
       "        vertical-align: middle;\n",
       "    }\n",
       "\n",
       "    .dataframe tbody tr th {\n",
       "        vertical-align: top;\n",
       "    }\n",
       "\n",
       "    .dataframe thead th {\n",
       "        text-align: right;\n",
       "    }\n",
       "</style>\n",
       "<table border=\"1\" class=\"dataframe\">\n",
       "  <thead>\n",
       "    <tr style=\"text-align: right;\">\n",
       "      <th></th>\n",
       "      <th>narrative</th>\n",
       "    </tr>\n",
       "    <tr>\n",
       "      <th>classification</th>\n",
       "      <th></th>\n",
       "    </tr>\n",
       "  </thead>\n",
       "  <tbody>\n",
       "    <tr>\n",
       "      <th>credit_card</th>\n",
       "      <td>purchase order day shipping amount receive pro...</td>\n",
       "    </tr>\n",
       "    <tr>\n",
       "      <th>credit_card</th>\n",
       "      <td>forwarded message date tue subject please inve...</td>\n",
       "    </tr>\n",
       "    <tr>\n",
       "      <th>retail_banking</th>\n",
       "      <td>forwarded message cc sent friday pdt subject f...</td>\n",
       "    </tr>\n",
       "    <tr>\n",
       "      <th>credit_reporting</th>\n",
       "      <td>payment history missing credit report speciali...</td>\n",
       "    </tr>\n",
       "    <tr>\n",
       "      <th>credit_reporting</th>\n",
       "      <td>payment history missing credit report made mis...</td>\n",
       "    </tr>\n",
       "  </tbody>\n",
       "</table>\n",
       "</div>"
      ],
      "text/plain": [
       "                                                          narrative\n",
       "classification                                                     \n",
       "credit_card       purchase order day shipping amount receive pro...\n",
       "credit_card       forwarded message date tue subject please inve...\n",
       "retail_banking    forwarded message cc sent friday pdt subject f...\n",
       "credit_reporting  payment history missing credit report speciali...\n",
       "credit_reporting  payment history missing credit report made mis..."
      ]
     },
     "execution_count": 158,
     "metadata": {},
     "output_type": "execute_result"
    }
   ],
   "source": [
    "input_file_path=json_data['input_file_path']\n",
    "input_response = pd.read_csv(input_file_path, index_col=0)\n",
    "input_response.head(5)"
   ]
  },
  {
   "cell_type": "markdown",
   "id": "2415f78f",
   "metadata": {},
   "source": [
    "## 3.2 Provide instructions to the model\n",
    "Careful design of your instructions may seem easy to ignore but is a crucial step of Prompt Engineering.  As a test, try setting these instructions to an empty string \"\" to see how well the prompt performs without it"
   ]
  },
  {
   "cell_type": "code",
   "execution_count": 159,
   "id": "a5b4670a",
   "metadata": {},
   "outputs": [],
   "source": [
    "# Provide instructions to set context for the model\n",
    "instructions = \"Classify this financial text into one of these categories: \"\n",
    "instructions += ', '.join(json_data[\"classifications\"]) + \"\\n\\n\""
   ]
  },
  {
   "cell_type": "markdown",
   "id": "4029697a",
   "metadata": {},
   "source": [
    "## 3.3 Review example prompt\n",
    "We assemble one example of the prompt that will be passed to the LLM, consisting of the classification request combined with the text to be analyzed."
   ]
  },
  {
   "cell_type": "code",
   "execution_count": 160,
   "id": "1f273c5d",
   "metadata": {
    "scrolled": true
   },
   "outputs": [
    {
     "name": "stdout",
     "output_type": "stream",
     "text": [
      "Classify this financial text into one of these categories: credit_card, retail_banking, credit_reporting, mortgages_and_loans, debt_collection\n",
      "\n",
      "purchase order day shipping amount receive product week sent followup email exact verbiage paid two day shipping received order company responded im sorry inform due unusually high order volume order shipped several week stock since early due high demand although continuing take order guaranteeing receive order place due time mask order exact shipping date right however guarantee ship soon soon delivers product u getting small shipment shipping first come first served basis appreciate patience fulfill order quickly recommend keeping order lose place line cancel distributor stock moment prefer cancel please note ask via email cancel accordance cancellation policy agreed checkout electronic inventory online requested order canceled refund issued canceled order sent verification order canceled refunded item particulate respirator refunded subtotal shipping tax total usd visa ending refund called disputed amount stated nothing needed submitted address issue recharged item removing called back dispute amount transaction rebillmerchandiserobert ca purchased thu posted wed purchased appears statement transaction rebill ca u followed see status case submitted documentation showing canceled order supposed submit refund called back speak manager case stated dispute ruled favor charge removed card capital one removed purchase bill purchase adjustmentmerchandiserobert j posted fri purchased appears statement purchase adjustment capital one recharges amount transaction rebillmerchandiserobert j purchased thu posted mon purchased appears statement transaction rebill called capital one requested recharge stated visa ruled case pretended remove purchase knew anything case manager ruling favor\n"
     ]
    }
   ],
   "source": [
    "def generate_prompt(input_value):\n",
    "    return instructions + input_value\n",
    "\n",
    "in_val=json_data[\"input_value\"]\n",
    "org_cat=json_data[\"original_category\"]\n",
    "with open(input_file_path, \"r\") as input_file:\n",
    "    reader = csv.DictReader(input_file)\n",
    "    for i, row in enumerate(reader):\n",
    "        if i == 0:\n",
    "            input_value = row[in_val]\n",
    "            original_category = row[org_cat]\n",
    "            example_prompt = generate_prompt(input_value)\n",
    "            print(example_prompt)"
   ]
  },
  {
   "cell_type": "markdown",
   "id": "63257630",
   "metadata": {},
   "source": [
    "<a id=\"fm_example_output\"></a>\n",
    "## 3.4 Review model response for prompt\n",
    "We assemble one example of the prompt that will be passed to the LLM, consisting of the classification request combined with the text to be analyzed."
   ]
  },
  {
   "cell_type": "code",
   "execution_count": 161,
   "id": "bb953380",
   "metadata": {},
   "outputs": [
    {
     "name": "stderr",
     "output_type": "stream",
     "text": [
      "Progress: 100%|████████████████████████████████████████████████████████████████████████████████████████████████████████████████████████████████████████████████████████| 1/1 [00:00<00:00,  1.48 inputs/s]"
     ]
    },
    {
     "name": "stdout",
     "output_type": "stream",
     "text": [
      "The model classified the text as 'credit_card'\n"
     ]
    },
    {
     "name": "stderr",
     "output_type": "stream",
     "text": [
      "\n"
     ]
    }
   ],
   "source": [
    "responses = FLAN.generate_async([example_prompt])\n",
    "response = list(responses)[0]\n",
    "classification = response.generated_text\n",
    "input_text = response.input_text\n",
    "input_text = input_text[len(instructions):len(input_text)]\n",
    "\n",
    "print(f\"The model classified the text as '{classification}'\")"
   ]
  },
  {
   "cell_type": "markdown",
   "id": "1537b215",
   "metadata": {},
   "source": [
    "<a id=\"fm_iterate\"></a>\n",
    "# Step 4. Run the Model Iterating over a Sample of the Dataset\n",
    "We now iterate through the entire dataset, constructing prompts for each input text entry  and submitting them to the LLM. The sample_percent parameter specifies the percentage of the input text entries that will be submitted to the LLM"
   ]
  },
  {
   "cell_type": "code",
   "execution_count": 163,
   "id": "0b393bf4",
   "metadata": {},
   "outputs": [
    {
     "name": "stdout",
     "output_type": "stream",
     "text": [
      "0.5% of samples to be evaluated\n",
      "creating prompts...\n",
      "622 prompts created\n"
     ]
    },
    {
     "name": "stderr",
     "output_type": "stream",
     "text": [
      "Progress: 100%|████████████████████████████████████████████████████████████████████████████████████████████████████████████████████████████████████████████████████| 622/622 [00:57<00:00, 10.85 inputs/s]\n"
     ]
    }
   ],
   "source": [
    "reader = csv.reader(open(json_data['input_file_path']))\n",
    "original_dataset_size = len(list(reader))\n",
    "sample_percent = json_data[\"sample_percent\"]\n",
    "sample_size = int(( sample_percent / 100) * original_dataset_size)\n",
    "print(f\"{sample_percent}% or {sample_size} of {original_dataset_size} samples will be evaluated\")\n",
    "\n",
    "# Open the input and output CSV files\n",
    "with open(json_data['input_file_path'], \"r\") as inf, open(input_file_path_temp, \"w\", newline=\"\") as infT, open(output_file_path_temp, \"w\", newline=\"\") as ouf:\n",
    "\n",
    "    # Create CSV reader and writer objects\n",
    "    reader = csv.DictReader(inf)\n",
    "    writer = csv.DictWriter(ouf, fieldnames=json_data[\"output_file_header\"])\n",
    "    writer1 = csv.DictWriter(infT, fieldnames=[\"original_category\", \"narrative\"])\n",
    "\n",
    "    # Write the header row to the output CSV file\n",
    "    writer.writeheader()\n",
    "    writer1.writeheader()\n",
    "     # Loop through each row in the input CSV file\n",
    "    i=0\n",
    "    prompts_to_complete = []\n",
    "    completed_prompts = []\n",
    "    print(\"creating prompts...\")\n",
    "    for row in reader:\n",
    "        if i<sample_size:\n",
    "            input_value = row[in_val]\n",
    "            original_category = row[org_cat]\n",
    "            writer1.writerow({\"original_category\": original_category, \"narrative\": input_value})\n",
    "            i=i+1\n",
    "            prompt = generate_prompt(input_value)\n",
    "            prompts_to_complete.append(prompt)\n",
    "            \n",
    "    num_of_prompts = len(prompts_to_complete)\n",
    "    print(f\"{num_of_prompts} prompts created\")\n",
    "\n",
    "    # generate async on all prompts\n",
    "    responses = FLAN.generate_async(prompts_to_complete)\n",
    "    count = 0\n",
    "    for response in responses:\n",
    "        classification = response.generated_text\n",
    "        input_text = response.input_text\n",
    "        input_text = input_text[len(instructions):len(input_text)]\n",
    "        count += 1\n",
    "        writer.writerow({\"index\": count, \"predicted_category\": classification, \"narrative\": input_text})\n"
   ]
  },
  {
   "cell_type": "markdown",
   "id": "f3d7ea4e-35f8-4802-a24e-4d521c11fa99",
   "metadata": {},
   "source": [
    "<a id=\"fm_merge_examine\"></a>\n",
    "# Step 5. Merge and Examine the Output Data"
   ]
  },
  {
   "cell_type": "markdown",
   "id": "7152c39b",
   "metadata": {},
   "source": [
    "<a id=\"fm_merge_output\"></a>\n",
    "## 5.1 Merge output data\n",
    "We next merge the input data with the processed output to create a single output file for analysis."
   ]
  },
  {
   "cell_type": "code",
   "execution_count": 164,
   "id": "463f63bb-ad99-4606-afad-e5ef13d67e9d",
   "metadata": {},
   "outputs": [],
   "source": [
    "# Read the first CSV file with original category and narrative columns\n",
    "df_input_temp = pd.read_csv(input_file_path_temp)\n",
    "\n",
    "# Read the second CSV file with predicted category and narrative columns\n",
    "df_output_temp = pd.read_csv(output_file_path_temp)\n",
    "\n",
    "# Merge the two dataframes based on the narrative column\n",
    "merged_df = pd.merge(df_input_temp, df_output_temp, on='narrative')\n",
    "merged_df = merged_df.drop_duplicates(subset='narrative')\n",
    "\n",
    "# Save the merged dataframe to a new CSV file\n",
    "merged_df.to_csv(output_file_path, index=False)"
   ]
  },
  {
   "cell_type": "markdown",
   "id": "1c7f248c",
   "metadata": {
    "tags": []
   },
   "source": [
    "<a id=\"fm_examine_output\"></a>\n",
    "## 5.2 Examine the model predictions\n",
    "We can examine a small set of the combined data to compare the quality of the results. The data presented below shows the original_category (original sentiment) and the category predicted by the model (predicted sentiment). As can be seen, a majority of the categories in the small sample are predicted correctly and match. The combination of of the input and output data will allow us perform other analysis of the classification results. This is kept in memory as the *output_response* array for later access."
   ]
  },
  {
   "cell_type": "code",
   "execution_count": 177,
   "id": "3b98feec",
   "metadata": {},
   "outputs": [
    {
     "data": {
      "text/html": [
       "<div>\n",
       "<style scoped>\n",
       "    .dataframe tbody tr th:only-of-type {\n",
       "        vertical-align: middle;\n",
       "    }\n",
       "\n",
       "    .dataframe tbody tr th {\n",
       "        vertical-align: top;\n",
       "    }\n",
       "\n",
       "    .dataframe thead th {\n",
       "        text-align: right;\n",
       "    }\n",
       "</style>\n",
       "<table border=\"1\" class=\"dataframe\">\n",
       "  <thead>\n",
       "    <tr style=\"text-align: right;\">\n",
       "      <th></th>\n",
       "      <th>original_category</th>\n",
       "      <th>narrative</th>\n",
       "      <th>index</th>\n",
       "      <th>predicted_category</th>\n",
       "    </tr>\n",
       "  </thead>\n",
       "  <tbody>\n",
       "    <tr>\n",
       "      <th>0</th>\n",
       "      <td>credit_card</td>\n",
       "      <td>purchase order day shipping amount receive pro...</td>\n",
       "      <td>3</td>\n",
       "      <td>credit_card</td>\n",
       "    </tr>\n",
       "    <tr>\n",
       "      <th>1</th>\n",
       "      <td>credit_card</td>\n",
       "      <td>forwarded message date tue subject please inve...</td>\n",
       "      <td>1</td>\n",
       "      <td>credit_card</td>\n",
       "    </tr>\n",
       "    <tr>\n",
       "      <th>2</th>\n",
       "      <td>retail_banking</td>\n",
       "      <td>forwarded message cc sent friday pdt subject f...</td>\n",
       "      <td>4</td>\n",
       "      <td>credit_card</td>\n",
       "    </tr>\n",
       "    <tr>\n",
       "      <th>3</th>\n",
       "      <td>credit_reporting</td>\n",
       "      <td>payment history missing credit report speciali...</td>\n",
       "      <td>2</td>\n",
       "      <td>credit_reporting</td>\n",
       "    </tr>\n",
       "    <tr>\n",
       "      <th>4</th>\n",
       "      <td>credit_reporting</td>\n",
       "      <td>payment history missing credit report made mis...</td>\n",
       "      <td>5</td>\n",
       "      <td>credit_reporting</td>\n",
       "    </tr>\n",
       "  </tbody>\n",
       "</table>\n",
       "</div>"
      ],
      "text/plain": [
       "  original_category                                          narrative  index  \\\n",
       "0       credit_card  purchase order day shipping amount receive pro...      3   \n",
       "1       credit_card  forwarded message date tue subject please inve...      1   \n",
       "2    retail_banking  forwarded message cc sent friday pdt subject f...      4   \n",
       "3  credit_reporting  payment history missing credit report speciali...      2   \n",
       "4  credit_reporting  payment history missing credit report made mis...      5   \n",
       "\n",
       "  predicted_category  \n",
       "0        credit_card  \n",
       "1        credit_card  \n",
       "2        credit_card  \n",
       "3   credit_reporting  \n",
       "4   credit_reporting  "
      ]
     },
     "execution_count": 177,
     "metadata": {},
     "output_type": "execute_result"
    }
   ],
   "source": [
    "output_response = pd.read_csv(output_file_path, index_col=None)\n",
    "output_response.head(5)"
   ]
  },
  {
   "cell_type": "markdown",
   "id": "3c664ec4",
   "metadata": {},
   "source": [
    "<a id=\"fm_analyze\"></a>\n",
    "# Step 6. Analyze the Results"
   ]
  },
  {
   "cell_type": "markdown",
   "id": "5bc5059b",
   "metadata": {},
   "source": [
    "<a id=\"fm_compare\"></a>\n",
    "## 6.1 Comparison\n",
    "Compare the predicted and original categories to find the percentage that exactly match. A percentage of 100% indicates all predictions match the original classifications."
   ]
  },
  {
   "cell_type": "code",
   "execution_count": 191,
   "id": "bb7754dd",
   "metadata": {},
   "outputs": [
    {
     "name": "stdout",
     "output_type": "stream",
     "text": [
      "72.51% rows matched\n",
      "451 of 622 rows matched\n"
     ]
    }
   ],
   "source": [
    "reader = csv.reader(open(output_file_path))\n",
    "test_dataset_size = len(list(reader))\n",
    "# Skip the header\n",
    "test_dataset_size = test_dataset_size - 1\n",
    "\n",
    "matched_rows = 0\n",
    "with open(output_file_path, 'r') as csvfile:\n",
    "    datareader = csv.reader(csvfile)\n",
    "    for row in datareader:\n",
    "\n",
    "        # get the values of the two columns to compare\n",
    "        column1 = row[0]\n",
    "        column2 = row[3]\n",
    "        if column1 == column2:\n",
    "            matched_rows+=1\n",
    "match_percent = (matched_rows / test_dataset_size) * 100\n",
    "print(f\"{match_percent:.2f}% rows matched\")\n",
    "print(f\"{matched_rows} of {test_dataset_size} rows matched\")"
   ]
  },
  {
   "cell_type": "markdown",
   "id": "e7f1791e",
   "metadata": {},
   "source": [
    "<a id=\"fm_post_processing\"></a>\n",
    "## 6.2 Post-process the dataset in preparation for performance analysis\n",
    "\n",
    "Here, we post-process the dataset and generate sets of the original and predicted categories. We then create a file of the misclassified data that will be used in later analysis."
   ]
  },
  {
   "cell_type": "code",
   "execution_count": 181,
   "id": "e156135c",
   "metadata": {},
   "outputs": [
    {
     "name": "stdout",
     "output_type": "stream",
     "text": [
      "['credit_card' 'retail_banking' 'credit_reporting' 'mortgages_and_loans'\n",
      " 'debt_collection']\n",
      "['credit_card' 'credit_reporting' 'mortgages_and_loans' 'debt_collection'\n",
      " 'retail_banking']\n"
     ]
    }
   ],
   "source": [
    "print(pd.unique(output_response['original_category']))\n",
    "print(pd.unique(output_response['predicted_category']))"
   ]
  },
  {
   "cell_type": "code",
   "execution_count": 182,
   "id": "e78fb04c",
   "metadata": {},
   "outputs": [
    {
     "data": {
      "text/plain": [
       "['credit_card',\n",
       " 'retail_banking',\n",
       " 'credit_reporting',\n",
       " 'mortgages_and_loans',\n",
       " 'debt_collection']"
      ]
     },
     "execution_count": 182,
     "metadata": {},
     "output_type": "execute_result"
    }
   ],
   "source": [
    "attribute_list=list(pd.unique(output_response['original_category']))\n",
    "attribute_list"
   ]
  },
  {
   "cell_type": "code",
   "execution_count": 183,
   "id": "c5a470e5",
   "metadata": {},
   "outputs": [
    {
     "name": "stdout",
     "output_type": "stream",
     "text": [
      "original_valu_counts= {'original_credit_card': 68, 'original_retail_banking': 70, 'original_credit_reporting': 288, 'original_mortgages_and_loans': 97, 'original_debt_collection': 99}\n",
      "\n",
      "predicted_valu_counts= {'predicted_credit_card': 181, 'predicted_retail_banking': 33, 'predicted_credit_reporting': 272, 'predicted_mortgages_and_loans': 80, 'predicted_debt_collection': 56}\n"
     ]
    }
   ],
   "source": [
    "original_valu_counts={}\n",
    "predicted_valu_counts={}\n",
    "for i in attribute_list:\n",
    "    original_valu_counts['original_'+i]=output_response['original_category'].value_counts()[i]\n",
    "    predicted_valu_counts['predicted_'+i]=output_response['predicted_category'].value_counts()[i]\n",
    "print('original_valu_counts=',original_valu_counts)\n",
    "\n",
    "print('\\npredicted_valu_counts=',predicted_valu_counts)\n"
   ]
  },
  {
   "cell_type": "code",
   "execution_count": 192,
   "id": "3637067b",
   "metadata": {},
   "outputs": [
    {
     "name": "stdout",
     "output_type": "stream",
     "text": [
      "27.65% rows were misclassified\n",
      "172 of 622 rows were misclassified\n"
     ]
    }
   ],
   "source": [
    "misclassified_file_path = os.path.join(output_path,json_data['misclassified_file_path'])\n",
    "\n",
    "misclassified_rows = 0\n",
    "with open(output_file_path, 'r') as input_file, open(misclassified_file_path, 'w', newline='') as output_file:\n",
    "\n",
    "    # create the CSV reader and writer objects\n",
    "    csv_reader = csv.reader(input_file)\n",
    "    csv_writer = csv.writer(output_file)\n",
    "\n",
    "    # loop through each row in the input file\n",
    "    for row in csv_reader:\n",
    "\n",
    "        # get the values of the two columns to compare\n",
    "        column1 = row[0]\n",
    "        column2 = row[3]\n",
    "\n",
    "        # compare the two columns\n",
    "        if column1 != column2:\n",
    "            # write the row to the output file\n",
    "            csv_writer.writerow(row)\n",
    "            misclassified_rows+=1\n",
    "\n",
    "misclassified_percent = (misclassified_rows / test_dataset_size) * 100\n",
    "print(f\"{misclassified_percent:.2f}% rows were misclassified\")\n",
    "print(f\"{misclassified_rows} of {test_dataset_size} rows were misclassified\")"
   ]
  },
  {
   "cell_type": "markdown",
   "id": "3c4790d5",
   "metadata": {},
   "source": [
    "<a id=\"fm_accuracy_data\"></a>\n",
    "## 6.3 Prepare to compute model accuracy\n",
    "We create a copy of the *output_response* array named *dff* and then create separate vectors of the original (*y_test*) and predicted (*y_pred*) categories for analysis."
   ]
  },
  {
   "cell_type": "code",
   "execution_count": 199,
   "id": "52b4bb97",
   "metadata": {},
   "outputs": [],
   "source": [
    "dff= output_response.copy()\n",
    "y_test=dff['original_category']\n",
    "y_pred=dff['predicted_category']"
   ]
  },
  {
   "cell_type": "markdown",
   "id": "3d0d1930",
   "metadata": {},
   "source": [
    "<a id=\"fm_accuracy\"></a>\n",
    "## 6.4 Compute model accuracy\n",
    "\n",
    "Comparing the original and predicted categories and displaying the accuracy score as computed by scikit-learn should give an accuracy value that matches what was computed in section 6.1."
   ]
  },
  {
   "cell_type": "code",
   "execution_count": 200,
   "id": "c85a8db7",
   "metadata": {},
   "outputs": [
    {
     "name": "stdout",
     "output_type": "stream",
     "text": [
      "Accuracy of model  72.508038585209 %\n"
     ]
    }
   ],
   "source": [
    "from sklearn.metrics import accuracy_score,confusion_matrix,classification_report\n",
    "print('Accuracy of model ',accuracy_score(y_test,y_pred)*100,'%')\n",
    "#this value should match with Match percentage estimated in comparison cell above"
   ]
  },
  {
   "cell_type": "markdown",
   "id": "23f297fb",
   "metadata": {},
   "source": [
    "<a id=\"fm_confusion\"></a>\n",
    "## 6.5 Generate a confusion matrix\n",
    "Next we compute and display the confusion matrix that characterizes the correct and incorrect categorizations and displays them graphically. Correct matches appear along a top-left to bottom-right diagonal. Cells with higher numbers of entries are shown in yellow ranging across the spectrum to lower numbers of entries shown in purple."
   ]
  },
  {
   "cell_type": "code",
   "execution_count": 201,
   "id": "caf9dac0",
   "metadata": {},
   "outputs": [
    {
     "data": {
      "image/png": "[encoded data removed]",
      "text/plain": [
       "<Figure size 504x504 with 2 Axes>"
      ]
     },
     "metadata": {
      "needs_background": "light"
     },
     "output_type": "display_data"
    }
   ],
   "source": [
    "from sklearn.metrics import ConfusionMatrixDisplay\n",
    "from textwrap import wrap\n",
    "xy_label=['\\n'.join(attribute.split('_')) for attribute in  attribute_list]\n",
    "cm = confusion_matrix(y_test, y_pred,labels=attribute_list)\n",
    "# print('Confusion Matrix \\n',cm)\n",
    "\n",
    "cm_display = ConfusionMatrixDisplay(confusion_matrix=cm,display_labels=xy_label)\n",
    "fig, ax = plt.subplots(figsize=(7,7))\n",
    "plt.title('Confusion Matrix')\n",
    "cm_display.plot(ax=ax)\n",
    "# plt.setp(ax.get_xticklabels(), rotation=20)\n",
    "plt.show()"
   ]
  },
  {
   "cell_type": "markdown",
   "id": "aad89749",
   "metadata": {},
   "source": [
    "<a id=\"fm_submit_notebook\"></a>\n",
    "##  Finished?\n",
    "Submit your completed notebook to Anthony Stevens at apsteven@us.ibm.com.  "
   ]
  },
  {
   "cell_type": "markdown",
   "id": "2c47acc8",
   "metadata": {},
   "source": [
    "**NOTE:** Thanks to Mishal Dholakia as this notebook is based off his earlier work on a [Watsonx.ai classification notebook](https://github.ibm.com/Research-Notebooks/foundation-model/blob/main/01_Zero_shot_classification.ipynb).  You can also contact that by email at IBM.Research.JupyterLab@ibm.com."
   ]
  }
 ],
 "metadata": {
  "kernelspec": {
   "display_name": "Python 3 (ipykernel)",
   "language": "python",
   "name": "python3"
  },
  "language_info": {
   "codemirror_mode": {
    "name": "ipython",
    "version": 3
   },
   "file_extension": ".py",
   "mimetype": "text/x-python",
   "name": "python",
   "nbconvert_exporter": "python",
   "pygments_lexer": "ipython3",
   "version": "3.11.3"
  }
 },
 "nbformat": 4,
 "nbformat_minor": 5
}
