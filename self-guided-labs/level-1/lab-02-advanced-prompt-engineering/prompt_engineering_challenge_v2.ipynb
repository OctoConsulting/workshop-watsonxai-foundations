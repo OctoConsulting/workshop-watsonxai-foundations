{
 "cells": [
  {
   "attachments": {},
   "cell_type": "markdown",
   "metadata": {},
   "source": [
    "## Prompt Lab Challenge Exercises Notebook"
   ]
  },
  {
   "attachments": {},
   "cell_type": "markdown",
   "metadata": {},
   "source": [
    "Welcome to the second prompt lab in the bootcamp series, you should have completed lab 1 and the exercises follow on from those. If you completed all the exercises in Lab 1 you should find most of the exercises here straightforward.\n",
    "\n",
    "This notebook is a template with all the exercises and indications of what the output should look like if you successfully engineer the prompt.\n",
    "\n",
    "Before you start you should have a Python environment with the necessary libraries installed as indicated in the intro lab, you will also need a .env file with your watsonx.ai KEY to load your credentials.\n",
    "\n",
    "It should take you about 30-45 min to walk through the exercises self paced\n",
    "\n",
    "Good luck and make sure you compare your answers with the model solutions\n"
   ]
  },
  {
   "attachments": {},
   "cell_type": "markdown",
   "metadata": {},
   "source": [
    "1. Import modules\n",
    "    - note we are using the internal watsonx.ai for these exercises so you need to be on VPN/IBM Network\n",
    "    - the code should run the same if you are using ibm-generative-ai url instead of the watsonx.ai url - just update my_api_endpoint in #2 below.\n"
   ]
  },
  {
   "cell_type": "code",
   "execution_count": 8,
   "metadata": {},
   "outputs": [],
   "source": [
    "import os\n",
    "from dotenv import load_dotenv\n",
    "from genai.schemas import GenerateParams\n",
    "from genai.model import Credentials, Model"
   ]
  },
  {
   "attachments": {},
   "cell_type": "markdown",
   "metadata": {},
   "source": [
    "2. Load credentials for watsonx.ai (note refer to lab explaining how to do this if necessary)\n",
    "    - you should have a .env file with your API key, eg GENAI_KEY=xxx\n",
    "    - you should have a .env api endpoint , eg GENAI_API=https://workbench-api.res.ibm.com/v1/"
   ]
  },
  {
   "cell_type": "code",
   "execution_count": 9,
   "metadata": {},
   "outputs": [
    {
     "name": "stdout",
     "output_type": "stream",
     "text": [
      "https://workbench-api.res.ibm.com/v1/\n"
     ]
    }
   ],
   "source": [
    "#config watsonx.ai environment\n",
    "load_dotenv()\n",
    "api_key = os.getenv(\"GENAI_KEY\", None)\n",
    "api_endpoint = os.getenv(\"GENAI_API\", None)\n",
    "print(api_endpoint)\n",
    "if api_key is None or api_endpoint is None:\n",
    "    print(\"ERROR: Ensure you copied the .env file that you created earlier into the same directory as this notebook\")\n",
    "else:\n",
    "    creds = Credentials(api_key=api_key, api_endpoint=api_endpoint)"
   ]
  },
  {
   "attachments": {},
   "cell_type": "markdown",
   "metadata": {},
   "source": [
    "#### Helper function for genai. \n",
    "Take a look at its tunable parameters. You will need to change some of these parameters to fine-tune your response to the following questions."
   ]
  },
  {
   "cell_type": "code",
   "execution_count": 15,
   "metadata": {},
   "outputs": [],
   "source": [
    "mt_model = 'bigscience/mt0-xxl'\n",
    "flanul_model = 'google/flan-ul2'"
   ]
  },
  {
   "cell_type": "code",
   "execution_count": 23,
   "metadata": {},
   "outputs": [],
   "source": [
    "def send_to_watsonxai(prompts,\n",
    "                    decoding_method=\"greedy\",\n",
    "                    max_new_tokens=100,\n",
    "                    min_new_tokens=30,\n",
    "                    temperature=1.0,\n",
    "                    repetition_penalty=2.0\n",
    "                    ):\n",
    "    '''\n",
    "   helper function for sending prompts and params to watsonx.ai\n",
    "    \n",
    "    Args:  \n",
    "        prompts:list list of text prompts\n",
    "        decoding:str watsonx.ai parameter \"sample\" or \"greedy\"\n",
    "        max_new_tokens:int watsonx.ai parameter for max new tokens/response returned\n",
    "        min_new_tokens:int watsonx.ai parameter for min new tokens/response returned\n",
    "        temperature:float watsonx.ai parameter for temperature (range 0>2)\n",
    "        repetition_penalty:float watsonx.ai parameter to penalize repetition\n",
    "\n",
    "    Returns: None\n",
    "        prints response\n",
    "    '''\n",
    "\n",
    "\n",
    "    # Instantiate parameters for text generation\n",
    "    params = GenerateParams(decoding_method=decoding_method, \n",
    "                            min_new_tokens=min_new_tokens,\n",
    "                            max_new_tokens=max_new_tokens,\n",
    "                            random_seed=42,\n",
    "                            temperature=temperature,\n",
    "                            repetition_penalty=repetition_penalty)\n",
    "\n",
    "    # Instantiate a model proxy object to send your requests\n",
    "    model = Model(flanul_model, params=params, credentials=creds)\n",
    "\n",
    "    for response in model.generate(prompts):\n",
    "        print(response.generated_text)"
   ]
  },
  {
   "attachments": {},
   "cell_type": "markdown",
   "metadata": {},
   "source": [
    "#### Product Review for Questions  1-5"
   ]
  },
  {
   "cell_type": "code",
   "execution_count": 5,
   "metadata": {},
   "outputs": [],
   "source": [
    "\n",
    "lamp_review = \"\"\"Needed a nice lamp for my bedroom, and this one had \\\n",
    "additional storage and not too high of a price point. \\\n",
    "Got it fast.  The string to our lamp broke during the \\\n",
    "transit and the company happily sent over a new one. \\\n",
    "Came within a few days as well. It was easy to put \\\n",
    "together.  I had a missing part, so I contacted their \\\n",
    "support and they very quickly got me the missing piece! \\\n",
    "Lumina seems to me to be a great company that cares \\\n",
    "about their customers and products!!\"\"\""
   ]
  },
  {
   "attachments": {},
   "cell_type": "markdown",
   "metadata": {},
   "source": [
    "#### Q0) EXAMPLE QUESTION: write a prompt to identify and return the issues that the customer had with their purchased product.\n",
    "Target response = - the string to our lamp broke during the transit"
   ]
  },
  {
   "attachments": {},
   "cell_type": "markdown",
   "metadata": {},
   "source": [
    "In the following cell, we have constructed a prompt to be input into the `send_to_watsonxai` function:\n",
    "- First we tell the model the goal and how we will denote the input\n",
    "- We write the `lamp_review` into the prompt using [fstring](https://realpython.com/python-f-strings/#simple-syntax) formatting. \n",
    "- We tell the model how we expect its response to be formatted.\n",
    "- We have changed the`min_new_tokens` and `max_new_tokens` parameters in the `send_to_watsonxai` function to restrict the model's response to the desired length.\n",
    "  \n",
    "Keep in mind that we aren't using any multi-shot learning techniques in this example. Your responses to the questions in this lab may need to include different prompt-engineering techniques."
   ]
  },
  {
   "cell_type": "code",
   "execution_count": 6,
   "metadata": {},
   "outputs": [
    {
     "name": "stdout",
     "output_type": "stream",
     "text": [
      "- the string to our lamp broke during the transit\n"
     ]
    }
   ],
   "source": [
    "#Q0 Code - enter prompt and parameters in this cell\n",
    "prompt = f\"\"\"Identify the issues that the customer had with the product in the following review denoted by triple backticks.\n",
    "\n",
    "```{lamp_review}```\n",
    "\n",
    "Make your response as short as possible. \\\n",
    "The response must not include anything positive about the product. \\\n",
    "Write the response as a list of one reason denoted with '-' characters.\\\n",
    "\"\"\"\n",
    "send_to_watsonxai(prompts=[prompt],\n",
    "                  min_new_tokens=10,\n",
    "                  max_new_tokens=35,\n",
    "                  repetition_penalty=2,\n",
    "                  temperature=1)"
   ]
  },
  {
   "attachments": {},
   "cell_type": "markdown",
   "metadata": {},
   "source": [
    "#### Q1) write a prompt to return the sentiment of the review\n",
    "Target sentiment = positive"
   ]
  },
  {
   "cell_type": "code",
   "execution_count": 7,
   "metadata": {},
   "outputs": [
    {
     "name": "stdout",
     "output_type": "stream",
     "text": [
      "positive\n"
     ]
    }
   ],
   "source": [
    "#Q1 Code - enter prompt and function parameters in this cell\n",
    "prompt = f\"identify the sentiment in the following product review: {lamp_review}\"\n",
    "send_to_watsonxai(prompts=[prompt],\n",
    "                  min_new_tokens= 1,\n",
    "                  max_new_tokens= 2)"
   ]
  },
  {
   "attachments": {},
   "cell_type": "markdown",
   "metadata": {},
   "source": [
    "#### Q2) extract the emotions the reviewer expressed, return answer as a comma separated list\n",
    "Target emotions = satisfied, happy, cared for, great company, product!"
   ]
  },
  {
   "cell_type": "code",
   "execution_count": 9,
   "metadata": {},
   "outputs": [
    {
     "name": "stdout",
     "output_type": "stream",
     "text": [
      "satisfied, happy, cared for, great company\n"
     ]
    }
   ],
   "source": [
    "prompt = f\"\"\"\n",
    "Identify a list of emotions that the writer of the \\\n",
    "following review is expressing. Include no more than \\\n",
    "five items in the list. Format your answer as a list of \\\n",
    "lower-case words separated by commas.\n",
    "\n",
    "Review text: '''{lamp_review}'''\n",
    "\"\"\"\n",
    "\n",
    "send_to_watsonxai(prompts=[prompt],min_new_tokens=10,max_new_tokens=30)"
   ]
  },
  {
   "attachments": {},
   "cell_type": "markdown",
   "metadata": {},
   "source": [
    "#### Q3) Is the reviewer expressing anger, answer “yes” or “no” – test with your own example including anger to ensure it works in both cases.\n",
    "Target answer = no"
   ]
  },
  {
   "cell_type": "code",
   "execution_count": 10,
   "metadata": {},
   "outputs": [
    {
     "name": "stdout",
     "output_type": "stream",
     "text": [
      "no\n"
     ]
    }
   ],
   "source": [
    "prompt = f\"\"\"\n",
    "Is the writer of the following review expressing anger?\\\n",
    "The review is delimited with triple backticks. \\\n",
    "Give your answer as either yes or no.\n",
    "\n",
    "Review text: '''{lamp_review}'''\n",
    "\n",
    "\"\"\"\n",
    "\n",
    "send_to_watsonxai(prompts=[prompt],max_new_tokens=2,min_new_tokens=1)"
   ]
  },
  {
   "attachments": {},
   "cell_type": "markdown",
   "metadata": {},
   "source": [
    "#### Q4) Extract the item purchased and the company name, return as JSON format\n",
    "Target answer = Item[lamp], Brand[Lumina]"
   ]
  },
  {
   "cell_type": "code",
   "execution_count": 11,
   "metadata": {},
   "outputs": [
    {
     "name": "stdout",
     "output_type": "stream",
     "text": [
      "Item[lamp], Brand[Lumina]\n"
     ]
    }
   ],
   "source": [
    "prompt = f\"\"\"\n",
    "Identify the following items from the review text: \n",
    "- Item purchased by reviewer\n",
    "- Company that made the item\n",
    "\n",
    "The review is delimited with triple backticks. \\\n",
    "Format your response as a JSON object with \\\n",
    "\"Item\" and \"Brand\" as the keys. \n",
    "If the information isn't present, use \"unknown\" \\\n",
    "as the value.\n",
    "Make your response as short as possible.\n",
    "  \n",
    "Review text: '''{lamp_review}'''\n",
    "\"\"\"\n",
    "\n",
    "send_to_watsonxai(prompts=[prompt],max_new_tokens=30,min_new_tokens=10)"
   ]
  },
  {
   "attachments": {},
   "cell_type": "markdown",
   "metadata": {},
   "source": [
    "#### Q5) Can you combine 1-5 in a single prompt and return JSON with: Sentiment (negative or positive), Anger (yes/no), Product, Company\n",
    "Target answer = Sentiment[positive], Anger[false], Item[lamp], Brand[Lumina]"
   ]
  },
  {
   "cell_type": "code",
   "execution_count": 12,
   "metadata": {},
   "outputs": [
    {
     "name": "stdout",
     "output_type": "stream",
     "text": [
      "Sentiment[positive], Anger[false], Item[lamp], Brand[Lumina]\n"
     ]
    }
   ],
   "source": [
    "prompt = f\"\"\"\n",
    "Identify the following items from the review text: \n",
    "- Sentiment (positive or negative)\n",
    "- Is the reviewer expressing anger? (true or false)\n",
    "- Item purchased by reviewer\n",
    "- Company that made the item\n",
    "\n",
    "The review is delimited with triple backticks. \\\n",
    "Format your response as a JSON object with \\\n",
    "\"Sentiment\", \"Anger\", \"Item\" and \"Brand\" as the keys.\n",
    "If the information isn't present, use \"unknown\" \\\n",
    "as the value.\n",
    "Make your response as short as possible.\n",
    "Format the Anger value as a boolean.\n",
    "\n",
    "Review text: '''{lamp_review}'''\n",
    "\"\"\"\n",
    "\n",
    "send_to_watsonxai(prompts=[prompt],max_new_tokens=50,min_new_tokens=20)\n"
   ]
  },
  {
   "attachments": {},
   "cell_type": "markdown",
   "metadata": {},
   "source": [
    "#### Q6) summarize the following product review\n",
    "Example summary = My daughter loves it!  It's soft and  super cute, and its face has a friendly look. It's  a bit small for what I paid though."
   ]
  },
  {
   "cell_type": "code",
   "execution_count": 13,
   "metadata": {},
   "outputs": [
    {
     "name": "stderr",
     "output_type": "stream",
     "text": [
      "<>:1: DeprecationWarning: invalid escape sequence '\\ '\n",
      "<>:1: DeprecationWarning: invalid escape sequence '\\ '\n",
      "/var/folders/1k/qhhfnfrs2632tlslj6sb7sqh0000gn/T/ipykernel_64279/3719332633.py:1: DeprecationWarning: invalid escape sequence '\\ '\n",
      "  review = \"\"\"Got this panda plush toy for my daughter's birthday, \\\n"
     ]
    }
   ],
   "source": [
    "review = \"\"\"Got this panda plush toy for my daughter's birthday, \\\n",
    "who loves it and takes it everywhere. It's soft and \\ \n",
    "super cute, and its face has a friendly look. It's \\ \n",
    "a bit small for what I paid though. I think there \\ \n",
    "might be other options that are bigger for the \\ \n",
    "same price. It arrived a day earlier than expected, \\ \n",
    "so I got to play with it myself before I gave it to her.\"\"\""
   ]
  },
  {
   "cell_type": "code",
   "execution_count": 14,
   "metadata": {},
   "outputs": [
    {
     "name": "stdout",
     "output_type": "stream",
     "text": [
      "My daughter loves it! but it's a bit small for what I paid\n"
     ]
    }
   ],
   "source": [
    "prompt = f\"\"\"\n",
    "Your task is to generate a short summary of a product \\\n",
    "review from an ecommerce site. \n",
    "\n",
    "Summarize the review below, delimited by triple \n",
    "backticks, in at most 30 words. \n",
    "\n",
    "Review: ```{review}```\n",
    "\"\"\"\n",
    "\n",
    "send_to_watsonxai(prompts=[prompt],max_new_tokens=50,min_new_tokens=10)"
   ]
  },
  {
   "attachments": {},
   "cell_type": "markdown",
   "metadata": {},
   "source": [
    "#### Q7) Summarize the same product review from the perspective of the shipping department\n",
    "Example summary = It arrived a day earlier than expected, so I got to play with it myself before I gave it  to her. "
   ]
  },
  {
   "cell_type": "code",
   "execution_count": 15,
   "metadata": {},
   "outputs": [
    {
     "name": "stdout",
     "output_type": "stream",
     "text": [
      "It arrived a day earlier than expected,  so I got to play with it myself before I gave it to her.\n"
     ]
    }
   ],
   "source": [
    "#concise wrt feedback shipping\n",
    "prompt = f\"\"\" \n",
    "\n",
    "read the review below, highlighted between triple backticks, and tell me about the delivery of the product\n",
    "\n",
    "Review: ```{review}```\n",
    "\"\"\"\n",
    "\n",
    "send_to_watsonxai(prompts=[prompt],max_new_tokens=50, min_new_tokens=10)"
   ]
  },
  {
   "attachments": {},
   "cell_type": "markdown",
   "metadata": {},
   "source": [
    "#### Q8) Summarize the review from the perspective of pricing and value\n",
    "Example summary = It's a bit small for what I paid though. I think there might be other options that are bigger for the same price"
   ]
  },
  {
   "cell_type": "code",
   "execution_count": 16,
   "metadata": {},
   "outputs": [
    {
     "name": "stdout",
     "output_type": "stream",
     "text": [
      "My daughter loves it, but it's a bit small for what I paid\n"
     ]
    }
   ],
   "source": [
    "#feedback pricing works - concise\n",
    "prompt = f\"\"\"\n",
    "You should read the review below, delimited by triple \n",
    "backticks, summarize any aspects \\\n",
    "that are relevant to the price and perceived value.  \n",
    "\n",
    "Review: ```{review}```\n",
    "\"\"\"\n",
    "\n",
    "send_to_watsonxai(prompts=[prompt],min_new_tokens=10,max_new_tokens=50)\n"
   ]
  },
  {
   "attachments": {},
   "cell_type": "markdown",
   "metadata": {},
   "source": [
    "#### Q9)\tPII removal. Given the following email, write a prompt to remove the PII (eg names, emails etc) (Hint: you may need to use 1-2 shot technique, consider using ChatGPT to generate your shots)\n",
    "\n",
    "Desired response:\n",
    "```\n",
    "Hi [NAME],\n",
    "\n",
    "I'm writing to you because I noticed you recently purchased a new car. \n",
    "I'm a salesperson at a local dealership (Cheap Dealz), and I wanted to let you know that we have a great deal on a new car. If you're interested, please let me know.\n",
    "\n",
    "Thanks,\n",
    "[NAME]\n",
    "Phone: [PHONE]\n",
    "Email: [EMAIL]\n",
    "```"
   ]
  },
  {
   "cell_type": "code",
   "execution_count": 12,
   "metadata": {},
   "outputs": [],
   "source": [
    "email = \"\"\"\n",
    "Hi John,\\\n",
    "\n",
    "I'm writing to you because I noticed you recently purchased a new car. I'm a salesperson\\\n",
    "at a local dealership (Cheap Dealz), and I wanted to let you know that we have a great deal on a new\\\n",
    "car. If you're interested, please let me know.\\\n",
    "\n",
    "Thanks,\\\n",
    "\n",
    "Jimmy Smith\\\n",
    "\n",
    "Phone: 410-805-2345\\\n",
    "Email: jimmysmith@cheapdealz.com\\\n",
    "\"\"\"\n",
    "\n",
    "ex_1 = \"\"\"\n",
    "Hi Xxxxx,\\\n",
    "\n",
    "I'm writing to you because I noticed you recently purchased a new car. I'm a salesperson\\\n",
    "at a local dealership (Cheap Dealz), and I wanted to let you know that we have a great deal on a new\\\n",
    "car. If you're interested, please let me know.\\\n",
    "\n",
    "Thanks,\\\n",
    "\n",
    "Sam Jones\\\n",
    "\n",
    "Phone: 411-805-7345\\\n",
    "Email: samjones@cheapercars.com\\\n",
    "\"\"\"\n",
    "\n",
    "ans_1 = \"\"\"\n",
    "Hi [NAME],\\\n",
    "\n",
    "I'm writing to you because I noticed you recently purchased a new car. I'm a salesperson\\\n",
    "at a local dealership (Cheap Dealz), and I wanted to let you know that we have a great deal on a new\\\n",
    "car. If you're interested, please let me know.\\\n",
    "\n",
    "Thanks,\\\n",
    "\n",
    "[NAME]\\\n",
    "\n",
    "Phone: [PHONE]\\\n",
    "Email: [EMAIL]\\\n",
    "\n",
    "\n",
    "\"\"\""
   ]
  },
  {
   "cell_type": "code",
   "execution_count": 18,
   "metadata": {},
   "outputs": [
    {
     "name": "stdout",
     "output_type": "stream",
     "text": [
      "Hi [NAME], I'm writing to you because I noticed you recently purchased a new car. I'm a salespersonat a local dealership (Cheap Dealz), and I wanted to let you know that we have a great deal on a newcar. If you're interested, please let me know. Thanks, [NAME] Phone: [PHONE]Email: [EMAIL]\n"
     ]
    }
   ],
   "source": [
    "prompt = f\"\"\"Read the following sales email. Remove any personally identifiable information (PII),and replace it with the appropriate placeholder. For example, replace the name \"Dave Doe\" with \"[NAME]\". \n",
    "\n",
    "{ex_1}\n",
    "\n",
    "{ans_1}\n",
    "\n",
    "{email}\n",
    "\"\"\"\n",
    "\n",
    "send_to_watsonxai(prompts=[prompt], min_new_tokens=20, max_new_tokens=100)"
   ]
  },
  {
   "cell_type": "code",
   "execution_count": null,
   "metadata": {},
   "outputs": [],
   "source": []
  },
  {
   "attachments": {},
   "cell_type": "markdown",
   "metadata": {},
   "source": [
    "#### Q10) Mathematical Inference: A patients a1c level determines their diabetes status, the rules are as follows:\n",
    "\n",
    " - less than 5.7 no diabetes\n",
    " - between 5.7 and 6.5 pre-diabetes\n",
    " - greater than 6.5 diabetic.\n",
    "\n",
    "Write a prompt to return just the diabetes status from the following 3 test cases:\n",
    "\n",
    "1)\tThe patients a1c is 5.5 which is good considering his other risk factors.\n",
    "2)\tFrom the last lab report I noted the A1c is 6.4 so we need to put her on Ozempic.\n",
    "3)\tShe mentioned her A1c is 8 according to her blood work about 3 years ago.\n",
    "\n",
    "Bonus 1: How could you improve the inference given the other information in the sentences?\n",
    "\n",
    "Bonus 2: how would you approach extracting the diabetes status based on patient notes without A1C values and what would you need to watch out for? (hint: maybe they are talking about family history of disease or other complications)\n"
   ]
  },
  {
   "cell_type": "code",
   "execution_count": 7,
   "metadata": {},
   "outputs": [
    {
     "name": "stdout",
     "output_type": "stream",
     "text": [
      "diabetes\n"
     ]
    }
   ],
   "source": [
    "#Q1 ENTER YOUR MODEL PARAMS HERE - MAKE SURE IT WORKS WITH ALL 3 EXAMPLES ABOVE\n",
    "prompt = f\"\"\"Diabetes status is indicated by a patients a1c level. the following a1c ranges determine the diabetes status.\n",
    "First, read the a1c level from the text delimited by triple back-ticks.\n",
    "\n",
    "Next, if the a1c level is less than 5.7 then output diabetes status: no-diabetes\n",
    "if a1c level is greater than 6.5: then output diabetes status: diabetes\n",
    "if the a1c is between 5.8 and 6.4, then output diabetes status: pre-diabetes\n",
    "\n",
    "'''She mentioned her A1c is 8 according to her blood work about 3 years ago.'''\n",
    "\n",
    "what is the diabetes status:\"\"\"\n",
    "\n",
    "send_to_watsonxai(prompts=[prompt],max_new_tokens=10,min_new_tokens=1) "
   ]
  },
  {
   "attachments": {},
   "cell_type": "markdown",
   "metadata": {},
   "source": [
    "After you feel satisfied with your prompt, try changing single words in the patient test cases to see how your model responds. That is, in test case 1 change the word '`good`' to '`bad`' to see how your model may be interpreting the surrounding context in evaluating its response."
   ]
  },
  {
   "cell_type": "markdown",
   "metadata": {},
   "source": [
    "### alternate solution to Q9 PII removal"
   ]
  },
  {
   "cell_type": "code",
   "execution_count": 25,
   "metadata": {},
   "outputs": [],
   "source": [
    "email = \"\"\"Hi Bob, I'm writing to you because I noticed you recently purchased a new car. I'm a salesperson at a local dealership (Cheap Dealz), and I wanted to let you know that we have a great deal on a newcar. If you're interested, please let me know. Thanks, Jimmy Smith Phone: 410-805-2345Email: jimmysmith@cheapdealz\"\"\""
   ]
  },
  {
   "cell_type": "code",
   "execution_count": 29,
   "metadata": {},
   "outputs": [],
   "source": [
    "prompt_ = f\"\"\"Read the following email and identify any names, email addresses, or other personal information. Then replace any personal information found with a placeholder. \n",
    "\n",
    "greetings ken,\n",
    "\n",
    "Wanted to let you know it was good seeing you at Radio City Music Hall. Hope we can do something else fun soon!\n",
    "\n",
    "James Grime\n",
    "\n",
    "Phone: 212-855-2213\n",
    "Email: jgrimmy@gmail.com\n",
    "\n",
    "\n",
    "greetings [NAME],\n",
    "\n",
    "Wanted to let you know it was good seeing you at [LOCATION]. Hope we can do something else fun soon!\n",
    "\n",
    "[NAME]\n",
    "\n",
    "Phone: [PHONE]\n",
    "Email: [EMAIL]\n",
    " \n",
    "{email}\n",
    "\n",
    "\"\"\""
   ]
  },
  {
   "cell_type": "code",
   "execution_count": 30,
   "metadata": {},
   "outputs": [
    {
     "name": "stdout",
     "output_type": "stream",
     "text": [
      "Hi [NAME], I'm writing to you because I noticed you recently purchased a new car. I'm a salespersonat a local dealership (Cheap Dealz), and I wanted to let you know that we have a great deal on a newcar. If you're interested, please let me know. Thanks, [NAME] Phone: [PHONE]Email: [EMAIL]\n"
     ]
    }
   ],
   "source": [
    "send_to_watsonxai(prompts=[prompt], min_new_tokens=20, max_new_tokens=100)"
   ]
  },
  {
   "cell_type": "code",
   "execution_count": null,
   "metadata": {},
   "outputs": [],
   "source": []
  }
 ],
 "metadata": {
  "kernelspec": {
   "display_name": "Python 3 (ipykernel)",
   "language": "python",
   "name": "python3"
  },
  "language_info": {
   "codemirror_mode": {
    "name": "ipython",
    "version": 3
   },
   "file_extension": ".py",
   "mimetype": "text/x-python",
   "name": "python",
   "nbconvert_exporter": "python",
   "pygments_lexer": "ipython3",
   "version": "3.10.9"
  }
 },
 "nbformat": 4,
 "nbformat_minor": 2
}
