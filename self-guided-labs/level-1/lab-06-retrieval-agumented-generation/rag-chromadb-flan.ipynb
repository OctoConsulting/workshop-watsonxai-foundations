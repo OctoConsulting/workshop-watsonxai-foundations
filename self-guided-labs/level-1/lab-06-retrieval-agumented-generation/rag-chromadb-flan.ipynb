{
 "cells": [
  {
   "cell_type": "markdown",
   "id": "bcb570d8",
   "metadata": {},
   "source": [
    "# Introduction\n",
    "\n",
    "### About Retrieval Augmented Generation\n",
    "Retrieval Augmented Generation (RAG) is a versatile pattern that can unlock a number of use cases requiring factual recall of information, such as querying a knowledge base in natural language.\n",
    "\n",
    "In its simplest form, RAG requires these steps:\n",
    "\n",
    "1. Extract knowledge base passages from documents (once)\n",
    "2. Create vector embedding representations of each passage in the knowledge base\n",
    "3. Retreive question from end user and generate vector embedding for it.\n",
    "4. Retrieve relevant passage(s) from knowledge base (for every user query) using vector similarity search\n",
    "5. Generate a response by feeding retrieved passage into a large language model (for every user query)\n",
    "\n",
    "You will work through each of these steps in the following notebook.\n",
    "\n",
    "<p align=\"center\">\n",
    "  <img src=\"images/rag-architecture-basic.png\" width=\"600\"/>\n",
    "</p>\n",
    "\n",
    "### Embeddings and Vector Databases\n",
    "The current state-of-the-art in RAG is to create dense vector representations of the knowledge base in order to calculate the semantic similarity to a given user query.\n",
    "\n",
    "We can generate dense vector representations using embedding models. In this notebook, we use [SentenceTransformers](https://www.google.com/search?client=safari&rls=en&q=sentencetransformers&ie=UTF-8&oe=UTF-8) [all-MiniLM-L6-v2](https://huggingface.co/sentence-transformers/all-MiniLM-L6-v2) to embed both the knowledge base passages and user queries. `all-MiniLM-L6-v2` is a performant open-source model that is small enough to run locally.\n",
    "\n",
    "A vector database is optimized for dense vector indexing and retrieval. This notebook uses [Chroma](https://docs.trychroma.com), a user-friendly open-source vector database, licensed under Apache 2.0, which offers good speed and performance with the all-MiniLM-L6-v2 embedding model.\n",
    "\n",
    "To generate the final response to a query based on the retrieved passage, we leverage an open-source model, [Flan-UL2 (20B)](https://huggingface.co/google/flan-ul2), and include a prompt\n",
    "\n",
    "### About the example dataset\n",
    "The dataset used in this cookbook is a subset of [nq_open](https://huggingface.co/datasets/nq_open), an open-source question answering dataset based on contents from Wikipedia. The selected subset includes the gold standard passages to answer the queries in the dataset, which enables evaluating the retrieval quality.\n",
    "\n",
    "You can select one of the two dataset available:\n",
    "1. **nq910** - an information retrieval (a.k.a. search) data set extracted from Google's Natural Questions dataset.\n",
    "2. **LongNQ** - an end-to-end retrieval and answer dataset extracted from the same NQ dataset, but focused more on abstractive, longer-form question answering. The answers were modified for fluency by IBM Research.\n",
    "\n",
    "These datasets are available in the [data](data) folder."
   ]
  },
  {
   "cell_type": "markdown",
   "id": "9871eb3d",
   "metadata": {},
   "source": [
    "### Limitations\n",
    "Given that we are leveraging a locally-hosted embedding model, data ingestion and querying speeds can be slow.\n",
    "\n",
    "### Cookbook Structure\n",
    "1. Set-up dependencies\n",
    "2. Index knowledge base <br>\n",
    "3. Generate a retrieval-augmented response <br>\n",
    "4. Evaluate RAG performance on your data <br>"
   ]
  },
  {
   "cell_type": "markdown",
   "id": "18df2022",
   "metadata": {},
   "source": [
    "# Disclaimer\n",
    "**The IBM GenAI Python library used in this notebook is currently in Beta and will change in the future.**"
   ]
  },
  {
   "cell_type": "markdown",
   "id": "31aa972b",
   "metadata": {},
   "source": [
    "# 1. Set-up dependencies"
   ]
  },
  {
   "cell_type": "markdown",
   "id": "88ae50a6",
   "metadata": {},
   "source": [
    "### 1.1 Install the required dependencies\n",
    "\n",
    "Note that `ibm-watson-machine-learning` requires `python>=3.9`. Ensure these pre-requisites are met before using this notebook"
   ]
  },
  {
   "cell_type": "markdown",
   "id": "b65a7e72",
   "metadata": {},
   "source": [
    "### 1.2. Import necessary modules"
   ]
  },
  {
   "cell_type": "code",
   "execution_count": 1,
   "id": "975528f9",
   "metadata": {
    "ExecuteTime": {
     "end_time": "2023-06-23T05:05:28.892803Z",
     "start_time": "2023-06-23T05:05:26.136320Z"
    }
   },
   "outputs": [],
   "source": [
    "import os\n",
    "import requests\n",
    "import chromadb\n",
    "import pandas as pd\n",
    "from typing import Optional, Any, Iterable, List\n",
    "\n",
    "from dotenv import load_dotenv\n",
    "\n",
    "try:\n",
    "    from sentence_transformers import SentenceTransformer\n",
    "except ImportError:\n",
    "    raise ImportError(\"Could not import sentence_transformers: Please install sentence-transformers package.\")\n",
    "    \n",
    "try:\n",
    "    import chromadb\n",
    "    from chromadb.api.types import EmbeddingFunction\n",
    "except ImportError:\n",
    "    raise ImportError(\"Could not import chromdb: Please install chromadb package.\")\n",
    "    \n",
    "from typing import Dict, Optional, List\n",
    "from rouge import Rouge\n",
    "\n",
    "\n",
    "from ibm_watson_machine_learning.foundation_models import Model\n",
    "from ibm_watson_machine_learning.metanames import GenTextParamsMetaNames as GenParams"
   ]
  },
  {
   "cell_type": "markdown",
   "id": "b57832b9",
   "metadata": {},
   "source": [
    "### 1.3. Load credentials for `ibm-watson-machine-learning`\n",
    "\n",
    "Your `.env` file needs to have the following lines without spaces around `=`. Set its path correctly in the below `get_wml_creds()` function.\n",
    "\n",
    "```\n",
    "API_KEY=<your-api_key>\n",
    "IBM_CLOUD_URL=<your-url>\n",
    "PROJECT_ID=<your-project_id>\n",
    "```\n"
   ]
  },
  {
   "cell_type": "code",
   "execution_count": 2,
   "id": "5a839010",
   "metadata": {
    "ExecuteTime": {
     "end_time": "2023-06-23T05:07:05.048160Z",
     "start_time": "2023-06-23T05:07:05.038242Z"
    }
   },
   "outputs": [],
   "source": [
    "def get_wml_creds():\n",
    "    load_dotenv()\n",
    "    api_key = os.getenv(\"API_KEY\", None)\n",
    "    ibm_cloud_url = os.getenv(\"IBM_CLOUD_URL\", None)\n",
    "    project_id = os.getenv(\"PROJECT_ID\", None)\n",
    "    if api_key is None or ibm_cloud_url is None or project_id is None:\n",
    "        print(\"Ensure you copied the .env file that you created earlier into the same directory as this notebook\")\n",
    "    else:\n",
    "        creds = {\n",
    "            \"url\": ibm_cloud_url,\n",
    "            \"apikey\": api_key \n",
    "        }\n",
    "    return project_id, creds\n",
    "\n",
    "\n",
    "project_id, creds = get_wml_creds()"
   ]
  },
  {
   "cell_type": "markdown",
   "id": "529a1a9c",
   "metadata": {},
   "source": [
    "# 2. Index knowledge base"
   ]
  },
  {
   "cell_type": "markdown",
   "id": "d541d9f0",
   "metadata": {},
   "source": [
    "### 2.1. Load data"
   ]
  },
  {
   "cell_type": "markdown",
   "id": "12816fda",
   "metadata": {},
   "source": [
    "Select one of the two dataset available:\n",
    "1. *nq910* - an Information Retrieval (a.k.a. search) data set extracted from Google's Natural Questions dataset.\n",
    "2. *LongNQ* - an end-to-end retrieval and answer dataset extracted from the same NQ dataset, but focused more on abstractive question answering.\n",
    "\n",
    "These datasets are provided under the /data directory."
   ]
  },
  {
   "cell_type": "code",
   "execution_count": 3,
   "id": "2612737f",
   "metadata": {
    "ExecuteTime": {
     "end_time": "2023-06-23T05:05:51.749249Z",
     "start_time": "2023-06-23T05:05:51.732170Z"
    }
   },
   "outputs": [
    {
     "name": "stdout",
     "output_type": "stream",
     "text": [
      "Selected dataset: LongNQ\n"
     ]
    }
   ],
   "source": [
    "datasets = ['LongNQ', 'nq910']\n",
    "dataset = datasets[0]    # The current dataset to use\n",
    "data_root = \"data\"\n",
    "data_dir = os.path.join(data_root, dataset)\n",
    "max_docs = -1\n",
    "print(\"Selected dataset:\", dataset)"
   ]
  },
  {
   "cell_type": "code",
   "execution_count": 4,
   "id": "f14a4cbe",
   "metadata": {
    "ExecuteTime": {
     "end_time": "2023-06-23T05:05:57.530665Z",
     "start_time": "2023-06-23T05:05:55.901120Z"
    }
   },
   "outputs": [],
   "source": [
    "def load_data_v1(data_dir, data_root):\n",
    "    passages = pd.read_csv(os.path.join(data_dir, \"passages.tsv\"), sep='\\t', header=0)\n",
    "    qas = pd.read_csv(os.path.join(data_dir, \"questions.tsv\"), sep='\\t', header=0).rename(columns={\"text\": \"question\"})\n",
    "    \n",
    "    # We only use 5000 examples.  Comment the lines below to use the full dataset.\n",
    "    passages = passages.head(5000)\n",
    "    qas = qas.head(5000)\n",
    "    \n",
    "    return passages, qas\n",
    "documents, questions = load_data_v1(data_dir, data_root)\n",
    "documents['indextext'] = documents['title'].astype(str) + \"\\n\" + documents['text']"
   ]
  },
  {
   "cell_type": "markdown",
   "id": "97bb6586",
   "metadata": {},
   "source": [
    "The dataset we are using is already split into self-contained passages that can be ingested by Chroma. \n",
    "\n",
    "The size of each passage is limited by the embedding model's context window (which is 256 tokens for `all-MiniLM-L6-v2`). \n",
    "\n",
    "In case your dataset requires splitting, it is recommended to split according to the document's structure and include contextual metadata such as a title for each passage. You may need to include a stride window for lengthier passages if there is a risk of cutting off important context.\n",
    "There is usually some experimentation required to get splitting right. It's helpful to have a test dataset to evaluate the impact of passage splitting on the retrieval quality (see section 4.1.)."
   ]
  },
  {
   "cell_type": "markdown",
   "id": "59d313c0",
   "metadata": {},
   "source": [
    "### 1.2. Create an embedding function\n",
    "\n",
    "Note that you can feed a custom embedding function to be used by chromadb. The performance of chromadb may differ depending on the embedding model used."
   ]
  },
  {
   "cell_type": "code",
   "execution_count": 5,
   "id": "36f53ee0",
   "metadata": {
    "ExecuteTime": {
     "end_time": "2023-06-23T05:06:01.792803Z",
     "start_time": "2023-06-23T05:06:01.403136Z"
    }
   },
   "outputs": [],
   "source": [
    "class MiniLML6V2EmbeddingFunction(EmbeddingFunction):\n",
    "    MODEL = SentenceTransformer('all-MiniLM-L6-v2')\n",
    "    def __call__(self, texts):\n",
    "        return MiniLML6V2EmbeddingFunction.MODEL.encode(texts).tolist()\n",
    "emb_func = MiniLML6V2EmbeddingFunction()"
   ]
  },
  {
   "cell_type": "markdown",
   "id": "aa258ce6",
   "metadata": {},
   "source": [
    "### 2.3. Set up Chroma upsert\n",
    "\n",
    "Upserting a document means update the document even if it exists in the database. Otherwise re-inserting a document throws an error. This is useful for experimentation purpose."
   ]
  },
  {
   "cell_type": "code",
   "execution_count": 6,
   "id": "56139757",
   "metadata": {
    "ExecuteTime": {
     "end_time": "2023-06-23T05:06:07.012702Z",
     "start_time": "2023-06-23T05:06:07.010303Z"
    }
   },
   "outputs": [],
   "source": [
    "\n",
    "class ChromaWithUpsert:\n",
    "    def __init__(self, name,persist_directory, embedding_function,collection_metadata: Optional[Dict] = None,\n",
    "    ):\n",
    "        self._client = chromadb.PersistentClient(path=persist_directory)\n",
    "        self._embedding_function = embedding_function\n",
    "        self._persist_directory = persist_directory\n",
    "        self._name = name\n",
    "        self._collection = self._client.get_or_create_collection(\n",
    "            name=self._name,\n",
    "            embedding_function=self._embedding_function\n",
    "            if self._embedding_function is not None\n",
    "            else None,\n",
    "            metadata=collection_metadata,\n",
    "        )\n",
    "\n",
    "    def upsert_texts(\n",
    "        self,\n",
    "        texts: Iterable[str],\n",
    "        metadata: Optional[List[dict]] = None,\n",
    "        ids: Optional[List[str]] = None,\n",
    "        **kwargs: Any,\n",
    "    ) -> List[str]:\n",
    "        \"\"\"Run more texts through the embeddings and add to the vectorstore.\n",
    "        Args:\n",
    "            :param texts (Iterable[str]): Texts to add to the vectorstore.\n",
    "            :param metadatas (Optional[List[dict]], optional): Optional list of metadatas.\n",
    "            :param ids (Optional[List[str]], optional): Optional list of IDs.\n",
    "            :param metadata: Optional[List[dict]] - optional metadata (such as title, etc.)\n",
    "        Returns:\n",
    "            List[str]: List of IDs of the added texts.\n",
    "        \"\"\"\n",
    "        # TODO: Handle the case where the user doesn't provide ids on the Collection\n",
    "        if ids is None:\n",
    "            import uuid\n",
    "            ids = [str(uuid.uuid1()) for _ in texts]\n",
    "        embeddings = None\n",
    "        self._collection.upsert(\n",
    "            metadatas=metadata, documents=texts, ids=ids\n",
    "        )\n",
    "        return ids\n",
    "\n",
    "    def is_empty(self):\n",
    "        return self._collection.count()==0\n",
    "\n",
    "    def query(self, query_texts:str, n_results:int=5):\n",
    "        \"\"\"\n",
    "        Returns the closests vector to the question vector\n",
    "        :param query_texts: the question\n",
    "        :param n_results: number of results to generate\n",
    "        :return: the closest result to the given question\n",
    "        \"\"\"\n",
    "        return self._collection.query(query_texts=query_texts, n_results=n_results)"
   ]
  },
  {
   "cell_type": "markdown",
   "id": "b2e8a329",
   "metadata": {},
   "source": [
    "###  2.4 Embed and index documents with Chroma\n",
    "You will now generate embeddings for the passages. This will take\n",
    "\n",
    "However if you want to full experience, then delete these files and rebuild them yourself.  Note that creating the embeddings and indexes can take a long time.  E.g. on a 2021 Macbook Pro, it took 45 mins to generate these files for the LongNQ dataset."
   ]
  },
  {
   "cell_type": "code",
   "execution_count": 7,
   "id": "130ed17f",
   "metadata": {
    "ExecuteTime": {
     "end_time": "2023-06-23T05:06:09.781614Z",
     "start_time": "2023-06-23T05:06:09.057648Z"
    }
   },
   "outputs": [
    {
     "name": "stdout",
     "output_type": "stream",
     "text": [
      "CPU times: user 40.4 ms, sys: 8.22 ms, total: 48.7 ms\n",
      "Wall time: 61 ms\n"
     ]
    }
   ],
   "source": [
    "%%time\n",
    "chroma = ChromaWithUpsert(\n",
    "    name=f\"{dataset}_minilm6v2\",\n",
    "    embedding_function=emb_func,  # you can have something here using /embed endpoint\n",
    "    persist_directory=data_dir,\n",
    ")\n",
    "if chroma.is_empty():\n",
    "    _ = chroma.upsert_texts(\n",
    "        texts=documents.indextext.tolist(),\n",
    "        # we handle tokenization, embedding, and indexing automatically. You can skip that and add your own embeddings as well\n",
    "        metadata=[{'title': title, 'id': id}\n",
    "                  for (title,id) in\n",
    "                  zip(documents.title, documents.id)],  # filter on these!\n",
    "        ids=[str(i) for i in documents.id],  # unique for each doc\n",
    "    )"
   ]
  },
  {
   "cell_type": "markdown",
   "id": "e6ad9d3e",
   "metadata": {},
   "source": [
    "# 3. Generate a retrieval-augmented response to a question "
   ]
  },
  {
   "cell_type": "markdown",
   "id": "acd72043",
   "metadata": {},
   "source": [
    "### 3.1. Instantiate `watsonx` model"
   ]
  },
  {
   "cell_type": "code",
   "execution_count": 8,
   "id": "86fa76de",
   "metadata": {
    "ExecuteTime": {
     "end_time": "2023-06-23T05:07:26.944301Z",
     "start_time": "2023-06-23T05:07:26.934952Z"
    }
   },
   "outputs": [],
   "source": [
    "params = {\n",
    "        GenParams.DECODING_METHOD: \"greedy\",\n",
    "        GenParams.MIN_NEW_TOKENS: 1,\n",
    "        GenParams.MAX_NEW_TOKENS: 100,\n",
    "        GenParams.TEMPERATURE: 0,\n",
    "    }\n",
    "model = Model(model_id='google/flan-ul2', params=params, credentials=creds, project_id=project_id)"
   ]
  },
  {
   "cell_type": "markdown",
   "id": "056acd65",
   "metadata": {},
   "source": [
    "### 3.2. Select a question"
   ]
  },
  {
   "cell_type": "code",
   "execution_count": 9,
   "id": "326bc593",
   "metadata": {
    "ExecuteTime": {
     "end_time": "2023-06-23T05:08:48.075507Z",
     "start_time": "2023-06-23T05:08:48.073575Z"
    }
   },
   "outputs": [
    {
     "name": "stdout",
     "output_type": "stream",
     "text": [
      "what is the tax rate for lottery winnings in california?\n"
     ]
    }
   ],
   "source": [
    "question_index = 65\n",
    "question_text = questions.question[question_index].strip(\"?\") + \"?\"\n",
    "print(question_text)"
   ]
  },
  {
   "cell_type": "markdown",
   "id": "6a9fdb71",
   "metadata": {},
   "source": [
    "### 3.3. Retrieve relevant context\n",
    "Send the question to Chroma which will convert the question into an embedding then run similarity search for the specified number of matching passages.  This process is VERY FAST!!"
   ]
  },
  {
   "cell_type": "code",
   "execution_count": 10,
   "id": "ad2e4e47",
   "metadata": {
    "ExecuteTime": {
     "end_time": "2023-06-23T05:08:50.401567Z",
     "start_time": "2023-06-23T05:08:50.324748Z"
    }
   },
   "outputs": [
    {
     "name": "stdout",
     "output_type": "stream",
     "text": [
      "=========\n",
      "Paragraph index :  4172\n",
      "Paragraph :  California State Lottery\n",
      "Assembly Member Van Tran 's Assembly Bill 1251 , modifying California Government Code section 8880.321 to allow for a one - year claim period for a Mega Millions jackpot prize . This is the only prize in California that has a one - year claim period . All other prizes have the 180 - day claim period . This legislation affected Mega Millions drawings after July 5 , 2008 . All prizes for Fantasy 5 , Daily Derby , Daily 3 , Daily 4 , and non-jackpot SuperLotto Plus , Mega Millions , and Powerball prizes , are paid out in one payment , less 25 % or 33 % ( depending upon the winner 's tax documentation ) Federal withholding if the prize is over $5,000 . Merchandise prizes over $5,000 are subject to 33 % Federal withholding . Scratchers tickets are generally one - payment prizes ; however , some games have annuity options for payments each year , or per week . California does not tax California Lottery winnings , however it taxes lottery winnings from other jurisdictions . For SuperLotto Plus and Mega Millions jackpots , the player may choose a single cash payout for a floating percentage of the jackpot , or an annuity . The SuperLotto Plus , Mega Millions , and Powerball payment schedule are on a graduated basis over 30 annual payments . Until 2005 , when California joined Mega Millions , the payment choice on SuperLotto Plus had to be made\n",
      "Distance :  0.5790594220161438\n",
      "=========\n",
      "Paragraph index :  4827\n",
      "Paragraph :  California State Lottery\n",
      "Assembly Member Van Tran 's Assembly Bill 1251 , modifying California Government Code section 8880.321 to allow for a one - year claim period for a Mega Millions jackpot prize . This is the only prize in California that has a one - year claim period . All other prizes have the 180 - day claim period . This legislation affected Mega Millions drawings after July 5 , 2008 . All prizes for Fantasy 5 , Daily Derby , Daily 3 , Daily 4 , and non-jackpot SuperLotto Plus , Mega Millions , and Powerball prizes , are paid out in one payment , less 25 % or 33 % ( depending upon the winner 's tax documentation ) Federal withholding if the prize is over $5,000 . Merchandise prizes over $5,000 are subject to 33 % Federal withholding . Scratchers tickets are generally one - payment prizes ; however , some games have annuity options for payments each year , or per week . California does not tax California Lottery winnings , however it taxes lottery winnings from other jurisdictions . For SuperLotto Plus and Mega Millions jackpots , the player may choose a single cash payout for a floating percentage of the jackpot , or an annuity . The SuperLotto Plus , Mega Millions , and Powerball payment schedule are on a graduated basis over 30 annual payments . Until 2005 , when California joined Mega Millions , the payment choice on SuperLotto Plus had to be made\n",
      "Distance :  0.5790594220161438\n",
      "=========\n",
      "Paragraph index :  4171\n",
      "Paragraph :  California State Lottery\n",
      "than other lottery games , but there are better odds ( averaging 1 : 5 ) . There are dozens of Scratchers games on sale at any time , and the selection of games changes frequently . Winners must be claimed within 180 days of the announced end - of - game date . Scratchers range in price from $1 to $10 . A $20 scratcher , `` $5 Million Jackpot '' , was introduced September 25 , 2013 . To commemorate the Lottery 's 30th anniversary , on August 24th , 2015 , a $30 Scratcher `` California Lottery 30th Anniversary '' was launched . For each prize of less than $600 , players may collect from either a Lottery retailer or the Lottery itself . Prizes of $600 or more must be collected from the Lottery , via claim form . Almost all prizes must be claimed within 180 days of the draw or the announced end of the game . If the 180th day is a weekend or holiday , the final claim date is extended to the next business day . Any unclaimed prize money is transferred to the education fund in addition to the minimum 34 % that the Lottery is already obligated to transfer from income . Because many of the 44 Mega Millions participants have a one - year claim period , the California legislature changed the language in the Lottery Act . On April 23 , 2008 , Gov. Arnold Schwarzenegger signed\n",
      "Distance :  0.6069095730781555\n",
      "=========\n",
      "Paragraph index :  4826\n",
      "Paragraph :  California State Lottery\n",
      "than other lottery games , but there are better odds ( averaging 1 : 5 ) . There are dozens of Scratchers games on sale at any time , and the selection of games changes frequently . Winners must be claimed within 180 days of the announced end - of - game date . Scratchers range in price from $1 to $10 . A $20 scratcher , `` $5 Million Jackpot '' , was introduced September 25 , 2013 . To commemorate the Lottery 's 30th anniversary , on August 24th , 2015 , a $30 Scratcher `` California Lottery 30th Anniversary '' was launched . For each prize of less than $600 , players may collect from either a Lottery retailer or the Lottery itself . Prizes of $600 or more must be collected from the Lottery , via claim form . Almost all prizes must be claimed within 180 days of the draw or the announced end of the game . If the 180th day is a weekend or holiday , the final claim date is extended to the next business day . Any unclaimed prize money is transferred to the education fund in addition to the minimum 34 % that the Lottery is already obligated to transfer from income . Because many of the 44 Mega Millions participants have a one - year claim period , the California legislature changed the language in the Lottery Act . On April 23 , 2008 , Gov. Arnold Schwarzenegger signed\n",
      "Distance :  0.6069095730781555\n",
      "=========\n",
      "Paragraph index :  4156\n",
      "Paragraph :  California State Lottery\n",
      "California State Lottery The California State Lottery logo as of 2008 Formation November 6 , 1984 Type Lottery System Headquarters Sacramento , California , United States Website www.calottery.com The California State Lottery logo as of 2008 Formation November 6 , 1984 Type Lottery System Headquarters Sacramento , California , United States Website www.calottery.com The California State Lottery , also known as the California Lottery , began on November 6 , 1984 , after California voters passed Proposition 37 , the California State Lottery Act of 1984 , to authorize the creation of a lottery . The first tickets were purchased on October 3 , 1985 . The California State Lottery Act of 1984 was intended to provide more money to schools without imposing extra taxes . Accordingly , the Lottery was required to provide at least 34 % of its revenues to public education , supplementing ( not replacing ) other funds provided by California . Another 50 % of its revenues must be paid to the public in the form of prizes , making a mandated minimum of 84 % of all funds that must be given back to the public in the form of prizes or funds for public education . The remainder , a maximum of 16 % , was to be spent on administration , such as salaries and running the games . On April 8 , 2010 , Governor Schwarzenegger signed into law Bill 142 ( Hayashi , D - Hayward ) . Amending the\n",
      "Distance :  0.668382465839386\n"
     ]
    }
   ],
   "source": [
    "relevant_chunks = chroma.query(\n",
    "    query_texts=[question_text],\n",
    "    n_results=5,\n",
    ")\n",
    "for i, chunk in enumerate(relevant_chunks['documents'][0]):\n",
    "    print(\"=========\")\n",
    "    print(\"Paragraph index : \", relevant_chunks['ids'][0][i])\n",
    "    print(\"Paragraph : \", chunk)\n",
    "    print(\"Distance : \", relevant_chunks['distances'][0][i])"
   ]
  },
  {
   "cell_type": "markdown",
   "id": "7b02484a",
   "metadata": {},
   "source": [
    "### 3.4. Feed the context and the question to `watsonx` model."
   ]
  },
  {
   "cell_type": "markdown",
   "id": "e3cb5669",
   "metadata": {},
   "source": [
    "`make_prompt` is a function to create a prompt from the given context and question. Changing the prompt will sometimes result in much more appropriate answers (or it may degrade the quality significantly)."
   ]
  },
  {
   "cell_type": "code",
   "execution_count": 11,
   "id": "304c54fc",
   "metadata": {
    "ExecuteTime": {
     "end_time": "2023-06-23T05:08:52.935954Z",
     "start_time": "2023-06-23T05:08:52.932090Z"
    }
   },
   "outputs": [],
   "source": [
    "def make_prompt(context, question_text):\n",
    "    return (f\"{context}\\n\\nPlease answer a question using this \"\n",
    "          + f\"text. \"\n",
    "          + f\"If the question is unanswerable, say \\\"unanswerable\\\".\"\n",
    "          + f\"Question: {question_text}\")"
   ]
  },
  {
   "cell_type": "code",
   "execution_count": 12,
   "id": "83ac534c",
   "metadata": {
    "ExecuteTime": {
     "end_time": "2023-06-23T05:08:54.181653Z",
     "start_time": "2023-06-23T05:08:54.171754Z"
    }
   },
   "outputs": [],
   "source": [
    "context = \"\\n\\n\\n\".join(relevant_chunks[\"documents\"][0])\n",
    "prompt = make_prompt(context, question_text)"
   ]
  },
  {
   "cell_type": "markdown",
   "id": "754300cc",
   "metadata": {},
   "source": [
    "Generate response"
   ]
  },
  {
   "cell_type": "code",
   "execution_count": 13,
   "id": "6e32e1cc",
   "metadata": {
    "ExecuteTime": {
     "end_time": "2023-06-23T05:09:03.685451Z",
     "start_time": "2023-06-23T05:08:56.884170Z"
    }
   },
   "outputs": [],
   "source": [
    "response = model.generate_text(prompt)"
   ]
  },
  {
   "cell_type": "code",
   "execution_count": 14,
   "id": "f9d5c81c",
   "metadata": {
    "ExecuteTime": {
     "end_time": "2023-06-23T05:09:03.693101Z",
     "start_time": "2023-06-23T05:09:03.683809Z"
    }
   },
   "outputs": [
    {
     "name": "stdout",
     "output_type": "stream",
     "text": [
      "Question =  what is the tax rate for lottery winnings in california?\n",
      "Answer =  California does not tax California Lottery winnings\n",
      "Expected Answer(s) (may not be appear with exact wording in the dataset) =  All prizes for Fantasy 5, Daily Derby, Daily 3, Daily 4, and non-jackpot SuperLotto Plus, Mega Millions, and Powerball prizes, are paid out in one payment, less 25 % or 33 % (depending upon the winner 's tax documentation) Federal Withholding if the prize is over $5,000. California does not tax California Lottery winnings, however it taxes lottery winnings from other jurisdictions.\n"
     ]
    }
   ],
   "source": [
    "print(\"Question = \", question_text)\n",
    "print(\"Answer = \", response)\n",
    "print(\"Expected Answer(s) (may not be appear with exact wording in the dataset) = \", questions.answers[question_index])"
   ]
  },
  {
   "cell_type": "markdown",
   "id": "abc8df92",
   "metadata": {},
   "source": [
    "## 4. Evaluate RAG performance on your data\n",
    "Evaluating the performance of your Generative AI system is critical to ensuring happy end users.  However evaluation also requires having a test dataset.  In this case, the top passages that shoudl be return for each question.\n",
    "\n",
    "Note that we want to evaluate the performance of both (1) the embedding function plus (2) how well the GenAI model summarizes the results.\n",
    "\n",
    "So our test set must contain:\n",
    "1. The indexes of the passage(s) that contain the answer - i.e. the goldstandard passages (if the question is answerable by the knowledge base)\n",
    "2. The question's gold standard answer (this can be short or long-form)\n"
   ]
  },
  {
   "cell_type": "markdown",
   "id": "8f441d1e",
   "metadata": {},
   "source": [
    "### 4.1. Evaluate the retrieval quality\n",
    "Were the correct passages returned via the similarity search functionality"
   ]
  },
  {
   "cell_type": "markdown",
   "id": "e17ccec6",
   "metadata": {},
   "source": [
    "There are many ways to compute retrieval quality, namely how the information contained in the documents that are relevant to the question being asked. We're focusing here on success at given number of returns  (aka recall at given levels), which is to say, given a fixed number of documents returned (e.g., 1, 3, 5), is the question's answer contained in them. The scores increase with the recall level."
   ]
  },
  {
   "cell_type": "code",
   "execution_count": 15,
   "id": "8ba37f5e",
   "metadata": {
    "ExecuteTime": {
     "end_time": "2023-06-23T05:10:40.354510Z",
     "start_time": "2023-06-23T05:10:40.321992Z"
    }
   },
   "outputs": [],
   "source": [
    "def compute_score(questions, answers, ranks=[1, 3, 5, 10], use_rouge=False, rouge_threshold=0.7):\n",
    "    \"\"\"\n",
    "    Computes the success at different levels of recall, given the goldstandard passage indexes per query.\n",
    "    It computes two scores:\n",
    "       * Success at rank_i, defined as sum_q 1_{top i answers for question q contains a goldstandard passage} / #questions\n",
    "       * Lenient success at rank i, defined as\n",
    "                sum_q 1_{ one in the documents in top i for question q contains a goldstandard answer) / #questions\n",
    "    Note that a document that contains the actual textual answer does not necesarily answer the question, hence it's a\n",
    "    more lenient evaluation. Any goldstandard passage will contain a goldstandard answer text, by definition.\n",
    "    Args:\n",
    "        :param questions: List[Dict['id': AnyStr, 'text': AnyStr, 'relevant': AnyStr, 'answers': AnyStr]]\n",
    "           - the input queries. Each query is a dictionary with the keys 'id','text', 'relevant', 'answers'.\n",
    "        :param input_passages: List[Dict['id': AnyStr, 'text': AnyStr', 'title': AnyStr]]\n",
    "           - the input passages. These are used to create a reverse-index list for the passages (so we can get the\n",
    "             text for a given passage ID)\n",
    "        :param answers: List[List[AnyStr]]\n",
    "           - the retrieved passages IDs for each query\n",
    "        :param ranks: List[int]\n",
    "           - the ranks at which to compute success\n",
    "        :param use_rouge: Boolean\n",
    "           - turns on the use of rouge as a scorer\n",
    "        :param rouge_threshold: float, default=0.7\n",
    "           - defines the minimum rouge-l/r score to accept the answer as a match,\n",
    "    Returns:\n",
    "\n",
    "\n",
    "    \"\"\"\n",
    "    # if \"relevant\" not in input_queries[0] or input_queries[0]['relevant'] is None:\n",
    "    #     print(\"The input question file does not contain answers. Please fix that and restart.\")\n",
    "    #     sys.exit(12)\n",
    "\n",
    "    scores = {r: 0 for r in ranks}\n",
    "    lscores = {r: 0 for r in ranks}\n",
    "\n",
    "    gt = {}\n",
    "    for q_relevant, q_qid in zip(questions.relevant, questions.qid):\n",
    "        if isinstance(q_relevant, str):\n",
    "            rel = [int(i) for i in q_relevant.split(\",\")]\n",
    "        else:\n",
    "            rel = [q_relevant]\n",
    "        gt[q_qid] = rel\n",
    "\n",
    "    def update_scores(ranks, rnk, scores):\n",
    "        j = 0\n",
    "        while j < len(ranks) and ranks[j] < rnk:\n",
    "            j += 1\n",
    "        for k in ranks[j:]:\n",
    "            scores[k] += 1\n",
    "\n",
    "    scorer = None\n",
    "    if use_rouge:\n",
    "        from rouge import Rouge\n",
    "        scorer = Rouge()\n",
    "\n",
    "    num_eval_questions = 0\n",
    "\n",
    "    for qi, (qid, q_answers) in enumerate(zip(questions.qid, questions.answers)):\n",
    "        tmp_scores = {r: 0 for r in ranks}\n",
    "\n",
    "        text_answers = str(q_answers).split(\"::\")\n",
    "        if \"-\" in text_answers:\n",
    "            # The question does not have answers, skip it for retrieval score purposes.\n",
    "            continue\n",
    "        num_eval_questions += 1\n",
    "        # Compute scores based on the goldstandard annotation\n",
    "        for ai, ans in enumerate(answers[qi]):\n",
    "            if int(ans['id']) in gt[qid]:  # Great, we found a match.\n",
    "                update_scores(ranks, ai + 1, tmp_scores)\n",
    "                break\n",
    "\n",
    "        # Compute score on approximate match - either answer inclusion in the text or\n",
    "        # minimum rouge score alignment.\n",
    "        tmp_lscores = tmp_scores.copy()  # making sure we're actually lenient\n",
    "        #inputq = questions[qi]\n",
    "        for ai, ans in enumerate(answers[qi]):\n",
    "            txt = ans['text'].lower()\n",
    "            found = False\n",
    "            for text_answer in text_answers:\n",
    "                if use_rouge:\n",
    "                    score = scorer.get_scores(text_answer.lower(), txt)\n",
    "                    if max(score[0]['rouge-l']['r'], score[0]['rouge-l']['p']) > rouge_threshold:\n",
    "                        update_scores(ranks, ai + 1, tmp_lscores)\n",
    "                        break\n",
    "                else:\n",
    "                    if not isinstance(text_answer, str):\n",
    "                        print(f\"Error on text_answer {text_answer}, question {qi}, answer {ai}-{ans}\")\n",
    "                    if txt.find(text_answer.lower()) >= 1:\n",
    "                        update_scores(ranks, ai + 1, tmp_lscores)\n",
    "                        break\n",
    "\n",
    "        for r in ranks:\n",
    "            scores[r] += int(tmp_scores[r] >= 1)\n",
    "            lscores[r] += int(tmp_lscores[r] >= 1)\n",
    "\n",
    "    res = {\"num_ranked_queries\": num_eval_questions,\n",
    "           \"num_judged_queries\": num_eval_questions,\n",
    "           \"success\":\n",
    "               {r: int(1000 * scores[r] / num_eval_questions) / 1000.0 for r in ranks},\n",
    "           \"lenient_success\":\n",
    "               {r: int(1000 * lscores[r] / num_eval_questions) / 1000.0 for r in ranks},\n",
    "           \"counts\": {r: scores[r] for r in ranks},\n",
    "           'lcounts': {r: lscores[r] for r in ranks}\n",
    "           }\n",
    "\n",
    "    return res"
   ]
  },
  {
   "cell_type": "markdown",
   "id": "c34d3cec",
   "metadata": {},
   "source": [
    "### Compute the retrieval score over all the documents\n",
    "Can take up to a minute"
   ]
  },
  {
   "cell_type": "code",
   "execution_count": 16,
   "id": "191373f9",
   "metadata": {
    "ExecuteTime": {
     "end_time": "2023-06-23T05:10:48.065035Z",
     "start_time": "2023-06-23T05:10:42.227465Z"
    }
   },
   "outputs": [
    {
     "name": "stdout",
     "output_type": "stream",
     "text": [
      "{'num_ranked_queries': 300, 'num_judged_queries': 300, 'success': {1: 0.076, 3: 0.133, 5: 0.153}, 'lenient_success': {1: 0.083, 3: 0.14, 5: 0.16}, 'counts': {1: 23, 3: 40, 5: 46}, 'lcounts': {1: 25, 3: 42, 5: 48}}\n"
     ]
    }
   ],
   "source": [
    "k = 5\n",
    "retrieved_docs = []\n",
    "for q in questions.question:\n",
    "    answers = chroma.query(query_texts=q, n_results=k)\n",
    "\n",
    "    retrieved_docs.append([{'id': id, 'text': text}\n",
    "                           for (id, text) in zip(answers['ids'][0], answers['documents'][0])])\n",
    "\n",
    "res = compute_score(questions, retrieved_docs,\n",
    "                    ranks=[1, 3, 5], use_rouge=(data_dir == 'docs_and_qs'))\n",
    "print(res)"
   ]
  },
  {
   "cell_type": "code",
   "execution_count": 17,
   "id": "e591ba75",
   "metadata": {
    "ExecuteTime": {
     "end_time": "2023-06-23T05:10:52.951489Z",
     "start_time": "2023-06-23T05:10:52.736414Z"
    }
   },
   "outputs": [],
   "source": [
    "import numpy as np\n",
    "import matplotlib.pyplot as plt\n",
    "%matplotlib inline\n",
    "def plot(res):\n",
    "    fig, ax = plt.subplots()\n",
    "    scores = res['success'].values()\n",
    "    keys = [f'R@{i}' for i in res['success'].keys()]\n",
    "    x_pos = np.arange(len(keys))\n",
    "    ax.bar(x_pos, scores, align='center', alpha=0.5)\n",
    "    ax.set_ylabel('Success Rate')\n",
    "    ax.set_xticks(x_pos)\n",
    "    ax.set_xticklabels(keys)\n",
    "    ax.set_title('Success rates at different recall rates.')\n",
    "    ax.yaxis.grid(True)\n",
    "\n",
    "    # Save the figure and show\n",
    "    plt.tight_layout()\n",
    "    plt.savefig('bar_plot.png')\n",
    "    plt.show()"
   ]
  },
  {
   "cell_type": "code",
   "execution_count": 18,
   "id": "097ecacb",
   "metadata": {
    "ExecuteTime": {
     "end_time": "2023-06-23T05:10:53.857005Z",
     "start_time": "2023-06-23T05:10:53.434507Z"
    }
   },
   "outputs": [
    {
     "data": {
      "image/png": "[encoded data removed]",
      "text/plain": [
       "<Figure size 640x480 with 1 Axes>"
      ]
     },
     "metadata": {},
     "output_type": "display_data"
    }
   ],
   "source": [
    "plot(res)"
   ]
  },
  {
   "cell_type": "markdown",
   "id": "8438b5c1",
   "metadata": {},
   "source": [
    "### 4.2. Evaluate quality of generated responses\n",
    "I.e. how well did the GenAI model summarize and extract the correct answer to the user's question from the passages returned by the similarity function.  Obviously if the returned passages were invalid, then performance at this phase would suffer too."
   ]
  },
  {
   "cell_type": "markdown",
   "id": "989f4832",
   "metadata": {},
   "source": [
    "Automatically evaluating the quality of answers is difficult, as many factors come into play, such as fluency, helpfulness, coverage, etc. One simplified way of computing this quality is using the ROUGE metric, in particular ROUGE-L. To compute this metric, for every answer returned for a question, we measure the maximum subsequence of words between the system answer and the gold-standard answer. Given this sequence, we can compute the precision of the given answer as the length (all lengths are in words) of this sequence divided by the length of the system answer and the recall as the length of the longest common subsequence divided by the length the gold-standard answer.\n",
    "$$ P_{ROUGE-L} = \\frac{|lcs(system,gold)|}{|system|} \\\\ R_{ROUGE_L} = \\frac{|lcs(system,gold|}{|gold|} $$\n",
    "\n",
    "where $lcs(system, gold)$ is the longest commong subsequence between $system$ and $gold$.\n",
    "\n",
    "ROUGE was devised in the NLP community to evaluate summarization, and is commonly used to also evaluate abstractive question answering."
   ]
  },
  {
   "cell_type": "code",
   "execution_count": 19,
   "id": "6bcceec2",
   "metadata": {
    "ExecuteTime": {
     "end_time": "2023-06-23T05:10:58.494098Z",
     "start_time": "2023-06-23T05:10:58.490061Z"
    }
   },
   "outputs": [],
   "source": [
    "def score_answers(_answers, _reference, score_type=\"rouge-l\", val=\"r\", use_rouge=True):\n",
    "    \"\"\"\n",
    "    Compute the score of a set of answers, given a set of references, using Rouge score.\n",
    "    :param answers: Union[List[str], str]\n",
    "       - the returned answer/answers.\n",
    "    :param reference:\n",
    "        - the reference answers, in a string. Answers are separated by ':::'\n",
    "    :param use_rouge: Boolean\n",
    "        - if true, then use rouge for scoring, otherwise use substring.\n",
    "    :return:\n",
    "       - The maximum rouge-L score of the cartesian product of answers/references\n",
    "    \"\"\"\n",
    "    if isinstance(_answers, str):\n",
    "        _answers = [_answers]\n",
    "    _references = _reference.lower().split(\"::\")\n",
    "    max_score = -1\n",
    "    scorer = Rouge()\n",
    "    closest_ref = \"\"\n",
    "    for ref in _references:\n",
    "        for _answer in _answers:\n",
    "            if use_rouge:\n",
    "                scores = scorer.get_scores(_answer.lower(), ref)\n",
    "                score = scores[0][score_type][val]\n",
    "            else:\n",
    "                score = int(ref.find(_answer.lower()) >= 0)\n",
    "            if score > max_score:\n",
    "                max_score = score\n",
    "                closest_ref = ref\n",
    "\n",
    "    return max_score, closest_ref"
   ]
  },
  {
   "cell_type": "markdown",
   "id": "44600561",
   "metadata": {},
   "source": [
    "Compute the score for the previous example"
   ]
  },
  {
   "cell_type": "code",
   "execution_count": 20,
   "id": "1c0e9fdf",
   "metadata": {
    "ExecuteTime": {
     "end_time": "2023-06-23T05:11:01.751553Z",
     "start_time": "2023-06-23T05:11:01.735763Z"
    }
   },
   "outputs": [
    {
     "name": "stdout",
     "output_type": "stream",
     "text": [
      "Question =  what is the tax rate for lottery winnings in california?\n",
      "Answer =  California does not tax California Lottery winnings\n",
      "Closest reference: \"all prizes for fantasy 5, daily derby, daily 3, daily 4, and non-jackpot superlotto plus, mega millions, and powerball prizes, are paid out in one payment, less 25 % or 33 % (depending upon the winner 's tax documentation) federal withholding if the prize is over $5,000. california does not tax california lottery winnings, however it taxes lottery winnings from other jurisdictions.\"\n",
      "Recall:\t\t11.11%\n",
      "Precision:\t100.00%\n"
     ]
    }
   ],
   "source": [
    "print(\"Question = \", question_text)\n",
    "print(\"Answer = \", response)\n",
    "score, closest_ref = score_answers(response, questions.answers[question_index], val='r')\n",
    "print(f\"Closest reference: \\\"{closest_ref}\\\"\")\n",
    "print(f\"Recall:\\t\\t{100*score:5.2f}%\")\n",
    "score, _ = score_answers(response, questions.answers[question_index], val='p')\n",
    "print(f\"Precision:\\t{100*score:5.2f}%\")"
   ]
  },
  {
   "cell_type": "markdown",
   "id": "ee97f9e8",
   "metadata": {},
   "source": [
    "#### Compute (Rouge-based) precision and recall for the entire collection.\n",
    "\n",
    "It takes about 1-2 seconds per question. For a corpus of ~1000 questions, this take can take up to 30min."
   ]
  },
  {
   "cell_type": "code",
   "execution_count": 21,
   "id": "84e5093a",
   "metadata": {
    "ExecuteTime": {
     "end_time": "2023-06-23T05:11:09.652689Z",
     "start_time": "2023-06-23T05:11:09.636571Z"
    }
   },
   "outputs": [],
   "source": [
    "def is_answerable(relevant):\n",
    "    return \"-1\" in relevant"
   ]
  },
  {
   "cell_type": "code",
   "execution_count": 22,
   "id": "e4c8ba27",
   "metadata": {
    "ExecuteTime": {
     "end_time": "2023-06-23T05:13:38.229938Z",
     "start_time": "2023-06-23T05:11:10.273038Z"
    }
   },
   "outputs": [
    {
     "name": "stderr",
     "output_type": "stream",
     "text": [
      "100%|██████████| 50/50 [02:05<00:00,  2.50s/it]\n"
     ]
    }
   ],
   "source": [
    "rscore = 0\n",
    "pscore = 0\n",
    "import tqdm\n",
    "num_eval_questions = 50\n",
    "eval_questions = questions[:num_eval_questions]\n",
    "count = {\"11\": 0, \"10\": 0, \"01\": 0, \"00\": 0}\n",
    "seq = []\n",
    "for (question_text, answers, relevant) in tqdm.tqdm(zip(eval_questions.question, eval_questions.answers, eval_questions.relevant), total=len(eval_questions)):\n",
    "    # ans = qa(question.question)\n",
    "    relevant_chunks = chroma.query(\n",
    "        query_texts=[question_text],\n",
    "        n_results=5,\n",
    "    )\n",
    "    context = \"\\n\\n\\n\".join(relevant_chunks[\"documents\"][0])\n",
    "    prompt = make_prompt(context, question_text)\n",
    "    ans = model.generate_text(prompt)\n",
    "    q_answerable = is_answerable(relevant)\n",
    "    if ans == \"unanswerable\":\n",
    "        res = \"10\" if q_answerable else \"00\"\n",
    "        count [res] += 1\n",
    "        if not q_answerable:\n",
    "            rscore += 1\n",
    "            pscore += 1\n",
    "    else:\n",
    "        res = \"11\" if q_answerable else \"10\"\n",
    "        count[res] += 1\n",
    "        if q_answerable:\n",
    "            qrscore, _ = score_answers(ans, answers, val='r')\n",
    "            rscore += qrscore\n",
    "            qpscore, _ = score_answers(ans, answers, val='p')\n",
    "            pscore += qpscore\n",
    "    seq.append(res)"
   ]
  },
  {
   "cell_type": "code",
   "execution_count": 23,
   "id": "2d367a0b",
   "metadata": {
    "ExecuteTime": {
     "end_time": "2023-06-23T05:23:29.963594Z",
     "start_time": "2023-06-23T05:23:29.960973Z"
    }
   },
   "outputs": [],
   "source": [
    "from IPython.display import HTML, display\n",
    "def displayHTMLTables(*tables):\n",
    "    def htmlTable(table):\n",
    "        return '<table border=\"2\"><tr>{}</tr></table>'.format(\n",
    "                    '</tr><tr>'.join(\n",
    "                        '<td>{}</td>'.format('</td><td>'.join(str(_) for _ in row)) for row in table)\n",
    "                )\n",
    "\n",
    "    display(HTML('<table><tr><td>{}</td></tr></table>'.format(\n",
    "                \"</td><td>\".join(htmlTable(table) for table in tables))\n",
    "))"
   ]
  },
  {
   "cell_type": "code",
   "execution_count": 24,
   "id": "f266aaa6",
   "metadata": {
    "ExecuteTime": {
     "end_time": "2023-06-23T05:30:09.511761Z",
     "start_time": "2023-06-23T05:30:09.503861Z"
    }
   },
   "outputs": [
    {
     "data": {
      "text/html": [
       "<table><tr><td><table border=\"2\"><tr><td></td><td>Overall</td><td>Answerable questions</td></tr><tr><td>Precision</td><td>44.00</td><td> 0.00</td></tr><tr><td>Recall</td><td>44.00</td><td> 0.00</td></tr></table></td><td><table border=\"2\"><tr></tr></table></td><td><table border=\"2\"><tr></tr></table></td><td><table border=\"2\"><tr><td>Gold/System</td><td>No Answer</td><td>Answered</td></tr><tr><td>No Answer</td><td>22</td><td>0</td></tr><tr><td>With Answer</td><td>28</td><td>0</td></tr></table></td></tr></table>"
      ],
      "text/plain": [
       "<IPython.core.display.HTML object>"
      ]
     },
     "metadata": {},
     "output_type": "display_data"
    }
   ],
   "source": [
    "res = [['', 'Overall', 'Answerable questions'],\n",
    "       ['Precision', f\"{100*pscore/len(eval_questions):5.2f}\", f\"{100*(pscore-count['00'])/(count['10']+count['11']):5.2f}\"],\n",
    "       ['Recall',    f'{100*pscore/len(eval_questions):5.2f}', f\"{188*(rscore-count['00'])/(count['10']+count['11']):5.2f}\"],\n",
    "       ]\n",
    "counts = [['Gold/System', 'No Answer', 'Answered'],\n",
    "        ['No Answer', count[\"00\"], count[\"01\"]],\n",
    "        ['With Answer', count[\"10\"], count[\"11\"]]]#%% md\n",
    "\n",
    "displayHTMLTables(res, [], [], counts)"
   ]
  }
 ],
 "metadata": {
  "kernelspec": {
   "display_name": "Python 3 (ipykernel)",
   "language": "python",
   "name": "python3"
  },
  "language_info": {
   "codemirror_mode": {
    "name": "ipython",
    "version": 3
   },
   "file_extension": ".py",
   "mimetype": "text/x-python",
   "name": "python",
   "nbconvert_exporter": "python",
   "pygments_lexer": "ipython3",
   "version": "3.10.9"
  },
  "vscode": {
   "interpreter": {
    "hash": "aee8b7b246df8f9039afb4144a1f6fd8d2ca17a180786b69acc140d282b71a49"
   }
  }
 },
 "nbformat": 4,
 "nbformat_minor": 5
}
